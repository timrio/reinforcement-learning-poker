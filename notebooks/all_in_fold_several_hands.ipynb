{
 "cells": [
  {
   "cell_type": "markdown",
   "id": "efc20b17-4135-45b6-a06c-24192262dc06",
   "metadata": {},
   "source": [
    "---\n",
    "Check that we don't have python 3.10.2 (otherwise PyTorch won't work)"
   ]
  },
  {
   "cell_type": "code",
   "execution_count": 1,
   "id": "c183a798-d4cf-4255-a655-49a421fd46d3",
   "metadata": {},
   "outputs": [
    {
     "name": "stdout",
     "output_type": "stream",
     "text": [
      "3.7.11 (default, Jul 27 2021, 07:03:16) \n",
      "[Clang 10.0.0 ]\n"
     ]
    }
   ],
   "source": [
    "import sys\n",
    "print(sys.version)"
   ]
  },
  {
   "cell_type": "markdown",
   "id": "9e856d00-aebe-4c1f-b801-b6fcbc5a0301",
   "metadata": {},
   "source": [
    "---\n",
    "Imports - most importantly clubs_gym (https://github.com/fschlatt/clubs_gym)"
   ]
  },
  {
   "cell_type": "code",
   "execution_count": 2,
   "id": "62db73dc-8949-48e8-b793-44e03d980345",
   "metadata": {},
   "outputs": [],
   "source": [
    "import gym\n",
    "import clubs_gym\n",
    "from clubs_gym.agent.base import BaseAgent\n",
    "\n",
    "import time\n",
    "import random\n",
    "random.seed(1998)\n",
    "import numpy as np\n",
    "import pickle\n",
    "import matplotlib.pyplot as plt\n",
    "from tqdm import tqdm"
   ]
  },
  {
   "cell_type": "markdown",
   "id": "5b50f010-05d0-427b-b5ec-6496ceb7aed0",
   "metadata": {},
   "source": [
    "---\n",
    "List of available environments"
   ]
  },
  {
   "cell_type": "code",
   "execution_count": 3,
   "id": "0e9ce39a-be22-4143-922f-2237f9c0a7c7",
   "metadata": {},
   "outputs": [
    {
     "data": {
      "text/plain": [
       "['LeducTwoPlayer-v0',\n",
       " 'KuhnTwoPlayer-v0',\n",
       " 'KuhnThreePlayer-v0',\n",
       " 'LimitHoldemTwoPlayer-v0',\n",
       " 'LimitHoldemSixPlayer-v0',\n",
       " 'LimitHoldemNinePlayer-v0',\n",
       " 'NoLimitHoldemTwoPlayer-v0',\n",
       " 'NoLimitHoldemSixPlayer-v0',\n",
       " 'NoLimitHoldemNinePlayer-v0',\n",
       " 'NoLimitHoldemBbAnteNinePlayer-v0',\n",
       " 'PotLimitOmahaTwoPlayer-v0',\n",
       " 'PotLimitOmahaSixPlayer-v0',\n",
       " 'PotLimitOmahaNinePlayer-v0',\n",
       " 'ShortDeckTwoPlayer-v0',\n",
       " 'ShortDeckSixPlayer-v0',\n",
       " 'ShortDeckNinePlayer-v0']"
      ]
     },
     "execution_count": 3,
     "metadata": {},
     "output_type": "execute_result"
    }
   ],
   "source": [
    "clubs_gym.ENVS"
   ]
  },
  {
   "cell_type": "markdown",
   "id": "d537f17d-98cb-492b-a495-dda6c21db7a2",
   "metadata": {},
   "source": [
    "We will only focus on `NoLimitHoldemTwoPlayer-v0` and `NoLimitHoldemSixPlayer-v0`"
   ]
  },
  {
   "cell_type": "markdown",
   "id": "34a4c9a9-9288-4f66-918e-ddb64771bec1",
   "metadata": {},
   "source": [
    "---\n",
    "Let's open `NoLimitHoldemTwoPlayer-v0`."
   ]
  },
  {
   "cell_type": "code",
   "execution_count": 4,
   "id": "4f85fcfc-d342-46e5-9167-b649244043fb",
   "metadata": {},
   "outputs": [],
   "source": [
    "env_str = \"NoLimitHoldemTwoPlayer-v0\"\n",
    "num_players = 2  # heads-up\n",
    "num_streets = 4  # texas hold'em\n",
    "blinds = [1, 2]  # as on the tables on which we used to play @Jean\n",
    "antes = 0  # a bit weird to have antes in a heads-up I reckon (single ints are expanded to the number of players so could've inputted a list)\n",
    "raise_sizes = ['inf', 'inf', 'inf', 'inf']  # yes the documentation is wrong, 'inf' should be used and not float('inf')\n",
    "num_raises = 'inf'  # max number of bets for each street* (including preflop)\n",
    "num_suits = 4  # number of suits to use in deck (obviously 4 otherwise I mean it's weird)\n",
    "num_ranks = 13  # same, obviously 13 (A, 2, 3, 4, 5, 6, 7, 8, 9, T, J, Q, K)\n",
    "num_hole_cards = 2  # **\n",
    "mandatory_num_hole_cards = 0  # you can use the fives on the board and it will end up being a draw if your enemy does it too\n",
    "num_community_cards = [0, 3, 1, 1]  # preflop, flop, turn, river\n",
    "start_stack = 100  # as on the tables on which we used to play @Jean (actually it was any integer between 80 and 200)\n",
    "n_cards_for_hand = 5  # texas hold'em\n",
    "order = ['sf', 'fk', 'fh', 'fl', 'st', 'tk', 'tp', 'pa', 'hc']  # most likely optional, but just to make sure we're working with the right order\n",
    "\n",
    "config_dict = {'num_players': num_players,\n",
    "               'num_streets': num_streets,\n",
    "               'blinds': blinds,\n",
    "               'antes': antes,\n",
    "               'raise_sizes': raise_sizes,\n",
    "               'num_raises': num_raises,\n",
    "               'num_suits': num_suits,\n",
    "               'num_ranks': num_ranks,\n",
    "               'num_hole_cards': num_hole_cards,\n",
    "               'mandatory_num_hole_cards': mandatory_num_hole_cards,\n",
    "               'num_community_cards': num_community_cards,\n",
    "               'start_stack': start_stack,\n",
    "               'num_cards_for_hand': n_cards_for_hand,\n",
    "               'order': order}"
   ]
  },
  {
   "cell_type": "markdown",
   "id": "d1f7f179-4f96-4f4d-b7a7-d512405f139b",
   "metadata": {},
   "source": [
    "---\n",
    "Some vocabulary:\n",
    "- \\* A card that’s dealt in a particular betting round, in many poker variants, is called a **street**. For example, in Texas Hold’em and Omaha, the community cards are referred to as the flop, turn and river, with the turn and river sometimes referred to as Fourth Street and Fifth Street.\n",
    "- ** The term **hole cards' in poker signals that the cards are private cards that should only be viewed by the player. The dealer deals hole cards face down and players should ensure that the value of those cards remains secret."
   ]
  },
  {
   "cell_type": "markdown",
   "id": "16101591-27cf-4557-a5d0-461b714bb1ba",
   "metadata": {},
   "source": [
    "---\n",
    "`obs` is really hard to read, thus we created a `print_obs` function to get nice prints on what is happening."
   ]
  },
  {
   "cell_type": "code",
   "execution_count": 5,
   "id": "77be690f-5596-499c-a36e-9d009e648a50",
   "metadata": {},
   "outputs": [],
   "source": [
    "def print_obs(obs):\n",
    "    \"\"\"\n",
    "    Fancy print of stats for the clubs gym poker gym.\n",
    "    All Cards displayed (we see everybody's cards)\n",
    "    \n",
    "    param: obs: first argument returned by env.step\n",
    "    return: none\n",
    "    \"\"\"\n",
    "    for _ in range(3):\n",
    "        print('\\n')\n",
    "    print('------------------- Players\\' stacks -------------------')\n",
    "    print(f\"player_0: {obs['stacks'][0]}\\n\" + \\\n",
    "          f\"player_1: {obs['stacks'][1]}\")\n",
    "    print('------------------- Game Stats -------------------')\n",
    "    print(f'community_cards: {obs[\"community_cards\"]}')\n",
    "    print(f'Dealer/Button: {obs[\"button\"] % 2}')\n",
    "    print(f'Pot: {obs[\"pot\"]}')\n",
    "    print(f'Commits: player_0: {obs[\"street_commits\"][0]} |||  player_1: {obs[\"street_commits\"][1]}')\n",
    "\n",
    "    if not obs['action'] == -1:\n",
    "        print(f\"\\n---------------- player {obs['action']}'s turn ----------------\")\n",
    "        print(f'hole_cards: {obs[\"hole_cards\"]}')\n",
    "        print(f'call: {obs[\"call\"]}, min_raise: {obs[\"min_raise\"]}, max_raise: {obs[\"max_raise\"]}', end='\\n\\n')\n",
    "    else:\n",
    "        print('\\n[INFO] - End of the Game.')"
   ]
  },
  {
   "cell_type": "markdown",
   "id": "b8b26875-7c1a-4eaa-91fd-7c6f4fa11eb2",
   "metadata": {},
   "source": [
    "---\n",
    "# Main\n",
    "\n",
    "`env.act` handles the agents turns add calls `act` method of agent. All agent require an `act()` method.\n",
    "\n",
    "`env.step` asks for an integer corresponding to the amount you want to bet. \n",
    "- If the bet is less than the minimum bet, you fold. \n",
    "- If the bet is higher than the maximum bid (which in Texas Hold'em not limit means that you want to bet more than you have) then you go all-in.\n",
    "\n",
    "Here, we code three agents : AllInFoldQLearningAgent, RandomAllInFold and HumanRandomAllInFold."
   ]
  },
  {
   "cell_type": "code",
   "execution_count": 6,
   "id": "25490bea",
   "metadata": {},
   "outputs": [],
   "source": [
    "class RandomAllInFold(BaseAgent):\n",
    "    '''\n",
    "    This agent bets everyting or folds (50/50 chance).\n",
    "    '''\n",
    "    def __init__(self, player_id):\n",
    "        self.player_id = player_id\n",
    "\n",
    "    def act(self, info_dict):\n",
    "        available_chips = info_dict['stacks'][self.player_id]\n",
    "        draw = random.random()\n",
    "        if draw >= 0.5:  # >= and not > because random.random() returns random floating point number in the range [0.0, 1.0)\n",
    "            action = 1 \n",
    "        else:\n",
    "            action = 0\n",
    "\n",
    "        ## outpu  \n",
    "        if action == 0:\n",
    "            return(0)\n",
    "        else:\n",
    "            return(available_chips)"
   ]
  },
  {
   "cell_type": "code",
   "execution_count": 7,
   "id": "d599005f",
   "metadata": {},
   "outputs": [],
   "source": [
    "class HumanRandomAllInFold(BaseAgent):\n",
    "    \"\"\"\n",
    "    The human can choose between two actions, all in or fold.\n",
    "    \"\"\"\n",
    "    def __init__(self, player_id):\n",
    "        self.player_id = player_id\n",
    "\n",
    "    def act(self, info_dict):\n",
    "        available_chips = info_dict['stacks'][self.player_id]\n",
    "        \n",
    "        action = -1\n",
    "        while action != 0 and action != 1:\n",
    "            action = int(input(\"Do you want to push (1) or fold (0)?\"))\n",
    "            \n",
    "        if action == 0:\n",
    "            return(0)\n",
    "        else:\n",
    "            return(available_chips)"
   ]
  },
  {
   "cell_type": "code",
   "execution_count": 8,
   "id": "1d850150",
   "metadata": {},
   "outputs": [],
   "source": [
    "class AllInFoldQLearningAgent(BaseAgent):\n",
    "    \"\"\"\n",
    "    Model-free reinforcement learning algorithm to learn the value of an action (called here agent_decision, cf. below) \n",
    "    in a particular state (here 2 hole cards).\n",
    "    agent_decision:\n",
    "        - 0: folds\n",
    "        - 1: all-in\n",
    "    We call decision the usual term action because the library clubs_gym uses action to determine whose next to play. So, to avoid\n",
    "    any confusion, action will be reserved to the use clubs_gym makes of it.\n",
    "    \"\"\"\n",
    "    \n",
    "    \n",
    "    def __init__(self, player_id, agent_init_info):\n",
    "        self.player_id = player_id\n",
    "\n",
    "        self.state_size = agent_init_info[\"state_size\"]  # size of the iterable state\n",
    "        self.num_agent_decision = agent_init_info[\"num_agent_decision\"]  # how many decisions can the agent make\n",
    "        self.epsilon = agent_init_info[\"epsilon\"]  # exploration, got to be set to 0 after training when we want an \"optimal\" agent\n",
    "        \n",
    "        self.q = {}  # policy the agent is learning\n",
    "        \n",
    "        self.step_size_initial = agent_init_info[\"step_size\"]\n",
    "        \n",
    "        if self.step_size_initial:\n",
    "            # If step_size is fixed\n",
    "            self.step_size = agent_init_info[\"step_size\"]\n",
    "        else:\n",
    "            # The step-size is then 1/N(A), where N(A) is the number of times action A was selected. \n",
    "            # This is the same as computing a sample average.\n",
    "            self.count = {}  # number of times a given decision has been made in a particular state\n",
    "        \n",
    "        self.discount = agent_init_info[\"discount\"]  # gamma\n",
    "        \n",
    "        self.has_already_made_a_decision = False \n",
    "\n",
    "\n",
    "    def agent_start(self, state):\n",
    "        # Chooses action using epsilon greedy.\n",
    "        self.has_already_made_a_decision = True\n",
    "\n",
    "        tuple_representing_state = tuple(str(state[i]) for i in range(0, self.state_size))\n",
    "\n",
    "        self.q.setdefault(tuple_representing_state, [0]*self.num_agent_decision)  # a 0 for fold and a 0 for all-in\n",
    "        # we don't need self.count because we don't update the q values\n",
    "        # but we need self.q to make the decisions\n",
    "        \n",
    "        if random.random() < self.epsilon:\n",
    "            agent_decision = random.randint(0, self.num_agent_decision-1)  # random decision selection\n",
    "        else:\n",
    "            agent_decision = self.argmax(self.q[tuple_representing_state])  # greedy decision selection\n",
    "        self.prev_state = tuple_representing_state\n",
    "        self.prev_agent_decision = agent_decision\n",
    "        return agent_decision\n",
    "    \n",
    "    \n",
    "    def agent_step(self, reward, state):\n",
    "        # Chooses action using epsilon greedy.\n",
    "        # Updates self.q\n",
    "        \n",
    "        tuple_representing_state = tuple(str(state[i]) for i in range(0, self.state_size))\n",
    "        if not self.step_size_initial:\n",
    "            self.count.setdefault(self.prev_state, [0]*self.num_agent_decision)\n",
    "            self.count[self.prev_state][self.prev_agent_decision] += 1\n",
    "            self.step_size = 1/self.count[self.prev_state][self.prev_agent_decision]\n",
    "        self.q.setdefault(tuple_representing_state, [0]*self.num_agent_decision)  # a 0 for fold and a 0 for all-in\n",
    "        \n",
    "        if random.random() < self.epsilon:\n",
    "            agent_decision = random.randint(0, self.num_agent_decision-1)  # random decision selection\n",
    "        else:\n",
    "            agent_decision = self.argmax(self.q[tuple_representing_state])  # greedy decision selection\n",
    "        \n",
    "        previous_estimates_list = self.q[self.prev_state]\n",
    "        previous_estimates_list[self.prev_agent_decision] += \\\n",
    "            self.step_size*(reward + self.discount * np.max(self.q[tuple_representing_state]) - self.q[self.prev_state][self.prev_agent_decision])\n",
    "        self.q[self.prev_state] = previous_estimates_list\n",
    "        \n",
    "        self.prev_state = tuple_representing_state\n",
    "        self.prev_agent_decision = agent_decision\n",
    "        return agent_decision\n",
    "    \n",
    "    \n",
    "    def agent_end(self, reward):\n",
    "        # Updates self.q\n",
    "        if self.has_already_made_a_decision:  \n",
    "            # sometimes, the end is reached before the agent has had to make any decision. This typically happens when\n",
    "            # the agent is the Big Blind and everyone folds. In this case, you haven't made any decision so you can't really\n",
    "            # infer anything about the strength of your hand.\n",
    "            if not self.step_size_initial:\n",
    "                self.count.setdefault(self.prev_state, [0]*self.num_agent_decision)\n",
    "                self.count[self.prev_state][self.prev_agent_decision] += 1\n",
    "                self.step_size = 1/self.count[self.prev_state][self.prev_agent_decision]\n",
    "            self.q.setdefault(self.prev_state, [0]*self.num_agent_decision)  # a 0 for fold and a 0 for all-in\n",
    "            previous_estimates_list = self.q[self.prev_state]\n",
    "            previous_estimates_list[self.prev_agent_decision] += self.step_size*(reward + self.discount * 0 - self.q[self.prev_state][self.prev_agent_decision])\n",
    "            self.q[self.prev_state] = previous_estimates_list\n",
    "\n",
    "\n",
    "\n",
    "    def act(self, info_dict):\n",
    "        reward = info_dict['rewards'][self.player_id]\n",
    "        state = info_dict['state']\n",
    "        number_of_chips = info_dict['stacks'][self.player_id]\n",
    "        \n",
    "\n",
    "        if not self.has_already_made_a_decision:\n",
    "            agent_decision = self.agent_start(state)\n",
    "\n",
    "        elif self.has_already_made_a_decision:\n",
    "            agent_decision = self.agent_step(reward, state)\n",
    "\n",
    "        if agent_decision == 0:\n",
    "            return(0)\n",
    "        elif agent_decision == 1:\n",
    "            return(number_of_chips)\n",
    "        else:\n",
    "            print(f\"Error on variable agent_decision (is equal to {agent_decision} which is illegal)\")\n",
    "        \n",
    "        \n",
    "    def argmax(self, q_values):\n",
    "        top = float(\"-inf\")\n",
    "        ties = []\n",
    "\n",
    "        for i in range(len(q_values)):\n",
    "            if q_values[i] > top:\n",
    "                top = q_values[i]\n",
    "                ties = []\n",
    "\n",
    "            if q_values[i] == top:\n",
    "                ties.append(i)\n",
    "\n",
    "        return random.choice(ties)\n",
    "\n",
    "    \n",
    "    def epsilon_decay(self):\n",
    "        self.epsilon = self.epsilon * 0.99\n",
    "\n",
    "        \n",
    "    @staticmethod\n",
    "    def load(path):\n",
    "        obj = pickle.load(open(path,'wb'))\n",
    "        return(obj)"
   ]
  },
  {
   "cell_type": "markdown",
   "id": "2f193a14-4b5a-4ccc-868c-8ed62ac36e33",
   "metadata": {},
   "source": [
    "Epsilon parameters playaround"
   ]
  },
  {
   "cell_type": "code",
   "execution_count": 9,
   "id": "3d2f41cb-0b18-4a29-96d3-76947b43d486",
   "metadata": {},
   "outputs": [
    {
     "name": "stdout",
     "output_type": "stream",
     "text": [
      "Epsilon goes from 1 up to 4.317124741065786e-05\n",
      "\n",
      "\n"
     ]
    }
   ],
   "source": [
    "epsilon_depart = 1\n",
    "num_episodes = 100000\n",
    "\n",
    "print(f\"Epsilon goes from {epsilon_depart} up to {1*0.99**(num_episodes/100)}\")\n",
    "print(\"\\n\")"
   ]
  },
  {
   "cell_type": "markdown",
   "id": "ac6e6142-5358-45df-8583-a0894691903e",
   "metadata": {},
   "source": [
    "Trainings of the different Agents against the RandomAllInFold Agent\n",
    "\n",
    "The different agents only learn to be on one side of the game (reset_button = True !), and here, we learn the small blind (0) strategy then the big bling (1) strategy."
   ]
  },
  {
   "cell_type": "code",
   "execution_count": 14,
   "id": "bee8be92-422e-443e-aa7e-9c74c9946891",
   "metadata": {},
   "outputs": [
    {
     "name": "stdout",
     "output_type": "stream",
     "text": [
      "Step_size = False\n"
     ]
    },
    {
     "name": "stderr",
     "output_type": "stream",
     "text": [
      "100%|██████████| 100000/100000 [09:37<00:00, 173.24it/s]\n"
     ]
    },
    {
     "name": "stdout",
     "output_type": "stream",
     "text": [
      "Step_size = 0.01\n"
     ]
    },
    {
     "name": "stderr",
     "output_type": "stream",
     "text": [
      "100%|██████████| 100000/100000 [10:48<00:00, 154.12it/s]\n"
     ]
    },
    {
     "name": "stdout",
     "output_type": "stream",
     "text": [
      "Step_size = 0.1\n"
     ]
    },
    {
     "name": "stderr",
     "output_type": "stream",
     "text": [
      "100%|██████████| 100000/100000 [08:39<00:00, 192.37it/s]"
     ]
    },
    {
     "name": "stdout",
     "output_type": "stream",
     "text": [
      "\n",
      "\n"
     ]
    },
    {
     "name": "stderr",
     "output_type": "stream",
     "text": [
      "\n"
     ]
    }
   ],
   "source": [
    "agents_finaux = []\n",
    "stacks_a_la_fin_finaux = []\n",
    "for i, step_size in enumerate([False, 0.01, 0.1]):\n",
    "    print(f\"Step_size = {step_size}\")\n",
    "    # clubs_gym.envs.register({env_str: config_dict})\n",
    "    env = gym.make(env_str)\n",
    "    q_learning_agent_info = {\"state_size\": 5, \"num_agent_decision\": 2 , \"epsilon\": 1, \"step_size\": step_size, \"discount\": 1.0}\n",
    "    agents = [AllInFoldQLearningAgent(0, q_learning_agent_info), RandomAllInFold(1)]\n",
    "    env.register_agents(agents)\n",
    "\n",
    "    ensemble_des_stacks_au_cours_des_mains = []\n",
    "    # Start the game\n",
    "    for episodes in tqdm(range(num_episodes), position = 0):\n",
    "        stacks_au_cours_des_mains = []  # in order to plot the evolution of stack_size in the end\n",
    "        \n",
    "        obs = env.reset(reset_stacks = True)\n",
    "\n",
    "        # create a dict containing all necessary info for q learning agent\n",
    "        info_dict = {}\n",
    "        info_dict['rewards'] = [0, 0]\n",
    "        info_dict['state'] = obs['hole_cards'] + obs['stacks'] + [obs[\"pot\"]]\n",
    "        info_dict['stacks'] = obs['stacks']\n",
    "\n",
    "        while True:\n",
    "            bet = env.act(info_dict)\n",
    "            obs, rewards, done, info = env.step(bet)  \n",
    "            # updata dict\n",
    "            info_dict = {}\n",
    "            info_dict['rewards'] = rewards\n",
    "            info_dict['state'] = obs['hole_cards'] + obs['stacks'] + [obs[\"pot\"]]\n",
    "            info_dict['stacks'] = obs['stacks']\n",
    "\n",
    "\n",
    "            # print_obs(obs)\n",
    "            if all(done):\n",
    "                stacks_au_cours_des_mains.append(obs['stacks'])\n",
    "                if obs['stacks'][0] * obs['stacks'][1] == 0:\n",
    "                    # print(\"One of the two players went bankrupt\")\n",
    "                    # print(f\"The player {np.argmax(obs['stacks'])} won the game\")\n",
    "                    agents[0].agent_end(rewards[0])\n",
    "                    break  # The game is over, we get back to the begining of the loop, we reset the stacks but not the button\n",
    "                    # the policy of this agent involves a state where there are the stacks and the pot\n",
    "                    # thus, we'll know if we are the first to play or the second\n",
    "                    # training two agents with a fixed button is not smart, since we cant get in the same situation\n",
    "                    # (e.g the other player has gone all-in, I have 30-chip stack, do I go all-in with ('2♥', '7♣') or not?\n",
    "\n",
    "                else:  # The game is not over\n",
    "                    obs = env.reset()  # we don't reset the stacks\n",
    "\n",
    "                if episodes % 100 == 0:\n",
    "                    agents[0].epsilon_decay()\n",
    "\n",
    "        ensemble_des_stacks_au_cours_des_mains.append(stacks_au_cours_des_mains)\n",
    "\n",
    "    stacks_a_la_fin_finaux.append(ensemble_des_stacks_au_cours_des_mains)\n",
    "    agents_finaux.append(agents[0])\n",
    "    env.close()\n",
    "\n",
    "print(\"\\n\")"
   ]
  },
  {
   "cell_type": "markdown",
   "id": "07982f02-695f-4003-877e-3c592d1f2979",
   "metadata": {},
   "source": [
    "To get an idea of the value of `stacks_a_la_fin_finaux` in the end:"
   ]
  },
  {
   "cell_type": "code",
   "execution_count": 16,
   "id": "937ba097-49da-48e2-a6c2-70c7091b3cfc",
   "metadata": {},
   "outputs": [
    {
     "name": "stdout",
     "output_type": "stream",
     "text": [
      "3\n",
      "3\n",
      "100000\n",
      "5\n",
      "2\n",
      "[201, 199]\n",
      "[0, 400]\n",
      "\n",
      "\n"
     ]
    }
   ],
   "source": [
    "prints_activate = True\n",
    "\n",
    "if prints_activate:\n",
    "    print(len(agents_finaux))  # one by step_size\n",
    "    print(len(stacks_a_la_fin_finaux))  # we need a history by step_size, hence the same\n",
    "    print(len(stacks_a_la_fin_finaux[0]))  # how many episodes there were\n",
    "    print(len(stacks_a_la_fin_finaux[0][0]))  # how many hands there were in the fist episode\n",
    "    print(len(stacks_a_la_fin_finaux[0][0][0]))  # len([Stack player_0, stack player_1]) at the end of the 0th hand\n",
    "    print(stacks_a_la_fin_finaux[0][0][0])  # [Stack player_0, stack player_1] at the end of the 0th hand\n",
    "    print(stacks_a_la_fin_finaux[0][0][-1])  # will always be [200, 0] or [0, 200]\n",
    "\n",
    "print(\"\\n\")"
   ]
  },
  {
   "cell_type": "markdown",
   "id": "bbd3b026-808f-411c-a80d-dc25ddc4771a",
   "metadata": {},
   "source": [
    "Sanity check"
   ]
  },
  {
   "cell_type": "code",
   "execution_count": 17,
   "id": "125b436c-dbb4-4d0c-8d4b-764e2908b210",
   "metadata": {},
   "outputs": [
    {
     "ename": "AssertionError",
     "evalue": "",
     "output_type": "error",
     "traceback": [
      "\u001b[0;31m---------------------------------------------------------------------------\u001b[0m",
      "\u001b[0;31mAssertionError\u001b[0m                            Traceback (most recent call last)",
      "\u001b[0;32m/var/folders/vt/qfxrdm19353__hkgg837tj500000gn/T/ipykernel_12705/613999283.py\u001b[0m in \u001b[0;36m<module>\u001b[0;34m\u001b[0m\n\u001b[1;32m      6\u001b[0m                \u001b[0mstacks_a_la_fin_finaux\u001b[0m\u001b[0;34m[\u001b[0m\u001b[0;36m0\u001b[0m\u001b[0;34m]\u001b[0m\u001b[0;34m[\u001b[0m\u001b[0mepisode\u001b[0m\u001b[0;34m]\u001b[0m\u001b[0;34m[\u001b[0m\u001b[0;34m-\u001b[0m\u001b[0;36m1\u001b[0m\u001b[0;34m]\u001b[0m \u001b[0;34m==\u001b[0m \u001b[0;34m[\u001b[0m\u001b[0;36m0\u001b[0m\u001b[0;34m,\u001b[0m \u001b[0mstart_stack\u001b[0m \u001b[0;34m*\u001b[0m \u001b[0;36m2\u001b[0m\u001b[0;34m]\u001b[0m\u001b[0;34m\u001b[0m\u001b[0;34m\u001b[0m\u001b[0m\n\u001b[1;32m      7\u001b[0m \u001b[0;34m\u001b[0m\u001b[0m\n\u001b[0;32m----> 8\u001b[0;31m \u001b[0mtest_stacks_a_la_fin_finaux\u001b[0m\u001b[0;34m(\u001b[0m\u001b[0mstacks_a_la_fin_finaux\u001b[0m\u001b[0;34m)\u001b[0m\u001b[0;34m\u001b[0m\u001b[0;34m\u001b[0m\u001b[0m\n\u001b[0m\u001b[1;32m      9\u001b[0m \u001b[0mprint\u001b[0m\u001b[0;34m(\u001b[0m\u001b[0;34m\"\\n\"\u001b[0m\u001b[0;34m)\u001b[0m\u001b[0;34m\u001b[0m\u001b[0;34m\u001b[0m\u001b[0m\n",
      "\u001b[0;32m/var/folders/vt/qfxrdm19353__hkgg837tj500000gn/T/ipykernel_12705/613999283.py\u001b[0m in \u001b[0;36mtest_stacks_a_la_fin_finaux\u001b[0;34m(stacks_a_la_fin_finaux)\u001b[0m\n\u001b[1;32m      4\u001b[0m     \u001b[0;32mfor\u001b[0m \u001b[0mepisode\u001b[0m \u001b[0;32min\u001b[0m \u001b[0mrange\u001b[0m\u001b[0;34m(\u001b[0m\u001b[0mnum_episodes\u001b[0m\u001b[0;34m)\u001b[0m\u001b[0;34m:\u001b[0m  \u001b[0;31m# last hand = someone went bankrupt\u001b[0m\u001b[0;34m\u001b[0m\u001b[0;34m\u001b[0m\u001b[0m\n\u001b[1;32m      5\u001b[0m         \u001b[0;32massert\u001b[0m \u001b[0mstacks_a_la_fin_finaux\u001b[0m\u001b[0;34m[\u001b[0m\u001b[0;36m0\u001b[0m\u001b[0;34m]\u001b[0m\u001b[0;34m[\u001b[0m\u001b[0mepisode\u001b[0m\u001b[0;34m]\u001b[0m\u001b[0;34m[\u001b[0m\u001b[0;34m-\u001b[0m\u001b[0;36m1\u001b[0m\u001b[0;34m]\u001b[0m \u001b[0;34m==\u001b[0m \u001b[0;34m[\u001b[0m\u001b[0mstart_stack\u001b[0m \u001b[0;34m*\u001b[0m \u001b[0;36m2\u001b[0m\u001b[0;34m,\u001b[0m \u001b[0;36m0\u001b[0m\u001b[0;34m]\u001b[0m \u001b[0;32mor\u001b[0m\u001b[0;31m \u001b[0m\u001b[0;31m\\\u001b[0m\u001b[0;34m\u001b[0m\u001b[0;34m\u001b[0m\u001b[0m\n\u001b[0;32m----> 6\u001b[0;31m                \u001b[0mstacks_a_la_fin_finaux\u001b[0m\u001b[0;34m[\u001b[0m\u001b[0;36m0\u001b[0m\u001b[0;34m]\u001b[0m\u001b[0;34m[\u001b[0m\u001b[0mepisode\u001b[0m\u001b[0;34m]\u001b[0m\u001b[0;34m[\u001b[0m\u001b[0;34m-\u001b[0m\u001b[0;36m1\u001b[0m\u001b[0;34m]\u001b[0m \u001b[0;34m==\u001b[0m \u001b[0;34m[\u001b[0m\u001b[0;36m0\u001b[0m\u001b[0;34m,\u001b[0m \u001b[0mstart_stack\u001b[0m \u001b[0;34m*\u001b[0m \u001b[0;36m2\u001b[0m\u001b[0;34m]\u001b[0m\u001b[0;34m\u001b[0m\u001b[0;34m\u001b[0m\u001b[0m\n\u001b[0m\u001b[1;32m      7\u001b[0m \u001b[0;34m\u001b[0m\u001b[0m\n\u001b[1;32m      8\u001b[0m \u001b[0mtest_stacks_a_la_fin_finaux\u001b[0m\u001b[0;34m(\u001b[0m\u001b[0mstacks_a_la_fin_finaux\u001b[0m\u001b[0;34m)\u001b[0m\u001b[0;34m\u001b[0m\u001b[0;34m\u001b[0m\u001b[0m\n",
      "\u001b[0;31mAssertionError\u001b[0m: "
     ]
    }
   ],
   "source": [
    "def test_stacks_a_la_fin_finaux(stacks_a_la_fin_finaux: list):\n",
    "    assert len(stacks_a_la_fin_finaux) == 3\n",
    "    assert len(stacks_a_la_fin_finaux[0]) == num_episodes\n",
    "    for episode in range(num_episodes):  # last hand = someone went bankrupt\n",
    "        assert stacks_a_la_fin_finaux[0][episode][-1] == [start_stack * 2, 0] or \\\n",
    "               stacks_a_la_fin_finaux[0][episode][-1] == [0, start_stack * 2]\n",
    "\n",
    "test_stacks_a_la_fin_finaux(stacks_a_la_fin_finaux)\n",
    "print(\"\\n\")"
   ]
  },
  {
   "cell_type": "markdown",
   "id": "da6a3c98-6213-4362-9b77-4157ccfbf5f7",
   "metadata": {},
   "source": [
    "To get an idea of what self.q looks like"
   ]
  },
  {
   "cell_type": "code",
   "execution_count": 18,
   "id": "363762aa-164f-4ec6-94c2-1a52a7a5de25",
   "metadata": {},
   "outputs": [
    {
     "name": "stdout",
     "output_type": "stream",
     "text": [
      "Agent 0 (Q learning Agent) ('8♠', '6♦', '28', '372', '0') [1.0, 0]\n",
      "\n",
      "\n"
     ]
    }
   ],
   "source": [
    "random_key = random.choice(list(agents_finaux[0].q.keys()))\n",
    "print(\"Agent 0 (Q learning Agent)\", random_key, agents_finaux[0].q[random_key])\n",
    "print(\"\\n\")"
   ]
  },
  {
   "cell_type": "markdown",
   "id": "cd5cfdde-32fe-40cd-8a5c-801c8bf93e3a",
   "metadata": {},
   "source": [
    "Some examples of the policy of the agent on some of the worst and best hands:"
   ]
  },
  {
   "cell_type": "code",
   "execution_count": 19,
   "id": "1b6cd054",
   "metadata": {},
   "outputs": [
    {
     "name": "stdout",
     "output_type": "stream",
     "text": [
      "Agent at step_size = False\n"
     ]
    },
    {
     "ename": "KeyError",
     "evalue": "('A♥', 'A♦', '99', '98', '3')",
     "output_type": "error",
     "traceback": [
      "\u001b[0;31m---------------------------------------------------------------------------\u001b[0m",
      "\u001b[0;31mKeyError\u001b[0m                                  Traceback (most recent call last)",
      "\u001b[0;32m/var/folders/vt/qfxrdm19353__hkgg837tj500000gn/T/ipykernel_12705/1458518775.py\u001b[0m in \u001b[0;36m<module>\u001b[0;34m\u001b[0m\n\u001b[1;32m      4\u001b[0m         \u001b[0;32mfor\u001b[0m \u001b[0mmains_preflop\u001b[0m \u001b[0;32min\u001b[0m \u001b[0;34m[\u001b[0m\u001b[0;34m(\u001b[0m\u001b[0;34m'A♥'\u001b[0m\u001b[0;34m,\u001b[0m \u001b[0;34m'A♦'\u001b[0m\u001b[0;34m)\u001b[0m\u001b[0;34m,\u001b[0m \u001b[0;34m(\u001b[0m\u001b[0;34m'A♥'\u001b[0m\u001b[0;34m,\u001b[0m \u001b[0;34m'A♣'\u001b[0m\u001b[0;34m)\u001b[0m\u001b[0;34m,\u001b[0m \u001b[0;34m(\u001b[0m\u001b[0;34m'A♥'\u001b[0m\u001b[0;34m,\u001b[0m \u001b[0;34m'A♠'\u001b[0m\u001b[0;34m)\u001b[0m\u001b[0;34m,\u001b[0m \u001b[0;34m(\u001b[0m\u001b[0;34m'2♥'\u001b[0m\u001b[0;34m,\u001b[0m \u001b[0;34m'7♦'\u001b[0m\u001b[0;34m)\u001b[0m\u001b[0;34m,\u001b[0m \u001b[0;34m(\u001b[0m\u001b[0;34m'2♥'\u001b[0m\u001b[0;34m,\u001b[0m \u001b[0;34m'7♣'\u001b[0m\u001b[0;34m)\u001b[0m\u001b[0;34m,\u001b[0m \u001b[0;34m(\u001b[0m\u001b[0;34m'2♥'\u001b[0m\u001b[0;34m,\u001b[0m \u001b[0;34m'7♠'\u001b[0m\u001b[0;34m)\u001b[0m\u001b[0;34m]\u001b[0m\u001b[0;34m:\u001b[0m\u001b[0;34m\u001b[0m\u001b[0;34m\u001b[0m\u001b[0m\n\u001b[1;32m      5\u001b[0m             \u001b[0mmains_preflop\u001b[0m \u001b[0;34m=\u001b[0m \u001b[0mmains_preflop\u001b[0m \u001b[0;34m+\u001b[0m \u001b[0;34m(\u001b[0m\u001b[0;34m'99'\u001b[0m\u001b[0;34m,\u001b[0m \u001b[0;34m'98'\u001b[0m\u001b[0;34m,\u001b[0m \u001b[0;34m'3'\u001b[0m\u001b[0;34m)\u001b[0m\u001b[0;34m\u001b[0m\u001b[0;34m\u001b[0m\u001b[0m\n\u001b[0;32m----> 6\u001b[0;31m             \u001b[0mprint\u001b[0m\u001b[0;34m(\u001b[0m\u001b[0;34mf\"{mains_preflop}: {agent.q[mains_preflop]}. The hand has been played {agent.count[mains_preflop]} times\"\u001b[0m\u001b[0;34m)\u001b[0m\u001b[0;34m\u001b[0m\u001b[0;34m\u001b[0m\u001b[0m\n\u001b[0m\u001b[1;32m      7\u001b[0m     \u001b[0;32melse\u001b[0m\u001b[0;34m:\u001b[0m\u001b[0;34m\u001b[0m\u001b[0;34m\u001b[0m\u001b[0m\n\u001b[1;32m      8\u001b[0m         \u001b[0;32mfor\u001b[0m \u001b[0mmains_preflop\u001b[0m \u001b[0;32min\u001b[0m \u001b[0;34m[\u001b[0m\u001b[0;34m(\u001b[0m\u001b[0;34m'A♥'\u001b[0m\u001b[0;34m,\u001b[0m \u001b[0;34m'A♦'\u001b[0m\u001b[0;34m)\u001b[0m\u001b[0;34m,\u001b[0m \u001b[0;34m(\u001b[0m\u001b[0;34m'A♥'\u001b[0m\u001b[0;34m,\u001b[0m \u001b[0;34m'A♣'\u001b[0m\u001b[0;34m)\u001b[0m\u001b[0;34m,\u001b[0m \u001b[0;34m(\u001b[0m\u001b[0;34m'A♥'\u001b[0m\u001b[0;34m,\u001b[0m \u001b[0;34m'A♠'\u001b[0m\u001b[0;34m)\u001b[0m\u001b[0;34m,\u001b[0m \u001b[0;34m(\u001b[0m\u001b[0;34m'2♥'\u001b[0m\u001b[0;34m,\u001b[0m \u001b[0;34m'7♦'\u001b[0m\u001b[0;34m)\u001b[0m\u001b[0;34m,\u001b[0m \u001b[0;34m(\u001b[0m\u001b[0;34m'2♥'\u001b[0m\u001b[0;34m,\u001b[0m \u001b[0;34m'7♣'\u001b[0m\u001b[0;34m)\u001b[0m\u001b[0;34m,\u001b[0m \u001b[0;34m(\u001b[0m\u001b[0;34m'2♥'\u001b[0m\u001b[0;34m,\u001b[0m \u001b[0;34m'7♠'\u001b[0m\u001b[0;34m)\u001b[0m\u001b[0;34m]\u001b[0m\u001b[0;34m:\u001b[0m\u001b[0;34m\u001b[0m\u001b[0;34m\u001b[0m\u001b[0m\n",
      "\u001b[0;31mKeyError\u001b[0m: ('A♥', 'A♦', '99', '98', '3')"
     ]
    }
   ],
   "source": [
    "for agent in agents_finaux:\n",
    "    print(f\"Agent at step_size = {agent.step_size_initial}\")\n",
    "    if not agent.step_size_initial:\n",
    "        for mains_preflop in [('A♥', 'A♦'), ('A♥', 'A♣'), ('A♥', 'A♠'), ('2♥', '7♦'), ('2♥', '7♣'), ('2♥', '7♠')]:\n",
    "            mains_preflop = mains_preflop + ('99', '98', '3')\n",
    "            print(f\"{mains_preflop}: {agent.q[mains_preflop]}. The hand has been played {agent.count[mains_preflop]} times\")\n",
    "    else:\n",
    "        for mains_preflop in [('A♥', 'A♦'), ('A♥', 'A♣'), ('A♥', 'A♠'), ('2♥', '7♦'), ('2♥', '7♣'), ('2♥', '7♠')]:\n",
    "            mains_preflop = mains_preflop + ('99', '98', '3')\n",
    "            print(f\"{mains_preflop}: {agent.q[mains_preflop]}.\")\n",
    "    print(\"\\n\")"
   ]
  },
  {
   "cell_type": "markdown",
   "id": "9d8bcfe6-cb91-425d-a297-9a55aa6d0ca7",
   "metadata": {},
   "source": [
    "Comparison of the average stacks at the end for player 0 (Agent Q-learning) and player 1 (Agent Random), keep in mind that calling the method epsilon_decay() makes it so that the player 0 (Agent Q-learning) explores less and less the environment.\n",
    "\n",
    "Differents step_size values:\n",
    "- Q-learning Agent 1: step_size = False\n",
    "- Q-learning Agent 2: step_size = 0.1\n",
    "- Q-learning Agent 3: step_size = 0.01\n",
    "\n",
    "One generation = num_episodes/generation_div"
   ]
  },
  {
   "cell_type": "code",
   "execution_count": 20,
   "id": "2a941804-e0ea-4f45-b184-014936831c9b",
   "metadata": {},
   "outputs": [
    {
     "data": {
      "image/png": "[encoded data removed]",
      "text/plain": [
       "<Figure size 1080x360 with 1 Axes>"
      ]
     },
     "metadata": {},
     "output_type": "display_data"
    },
    {
     "data": {
      "image/png": "[encoded data removed]",
      "text/plain": [
       "<Figure size 1080x360 with 1 Axes>"
      ]
     },
     "metadata": {},
     "output_type": "display_data"
    },
    {
     "data": {
      "image/png": "[encoded data removed]",
      "text/plain": [
       "<Figure size 1080x360 with 1 Axes>"
      ]
     },
     "metadata": {},
     "output_type": "display_data"
    }
   ],
   "source": [
    "generation_div = 10\n",
    "\n",
    "display_text = False\n",
    "\n",
    "average_per_generation_player_0 = [[], [], []]  # list of list of size int(3 * num_episodes/100 + 1)\n",
    "average_per_generation_player_1 = [[], [], []]  # list of size int(3 * num_episodes/100 + 1)\n",
    "for i, agent in enumerate(agents_finaux):\n",
    "    for tranche in range(0, generation_div):\n",
    "        # not optimal in terms of complexity but list comprehension look nice\n",
    "        tranche = tranche/generation_div\n",
    "        first_episode_tranche = int(tranche*num_episodes)\n",
    "        last_episode_tranche = int((tranche+1/generation_div)*num_episodes)\n",
    "        if display_text:\n",
    "            print(f\"Episodes {first_episode_tranche} à {last_episode_tranche-1}\")\n",
    "        liste_stacks_a_la_fin_player_0 = [x[-1][0] for x in stacks_a_la_fin_finaux[i][first_episode_tranche:last_episode_tranche]]\n",
    "        average_per_generation_player_0[i].append(np.mean(liste_stacks_a_la_fin_player_0))\n",
    "        liste_stacks_a_la_fin_player_1 = [x[-1][1] for x in stacks_a_la_fin_finaux[i][first_episode_tranche:last_episode_tranche]]\n",
    "        average_per_generation_player_1[i].append(np.mean(liste_stacks_a_la_fin_player_1))\n",
    "        if display_text:\n",
    "            print(f\"Agent 0: {round(np.mean(liste_stacks_a_la_fin_player_0), 2)} vs agent 1: {round(np.mean(liste_stacks_a_la_fin_player_1), 2)}\")\n",
    "\n",
    "display_plot = True\n",
    "if display_plot:\n",
    "    agents_legendes = [\"Q-learning Agent 1 (step_size=False)\", \"Q-learning Agent 2 (step_size=0.01)\", \"Q-learning Agent 3 (step_size=0.1)\"]\n",
    "    for i in range(0, 3):\n",
    "        plt.figure(figsize=(15, 5), facecolor='w', edgecolor='k')\n",
    "        plt.plot([100 for _ in range(len(average_per_generation_player_0[0]))], linestyle=\"--\")\n",
    "        plt.plot(average_per_generation_player_0[i])\n",
    "        plt.plot(average_per_generation_player_1[i])\n",
    "        plt.title(\"Average final stack of Q-learning Agent vs. Random Policy Agent\")\n",
    "        plt.legend((\"Baseline (zero-sum game)\", agents_legendes[i], \"Random Policy Agent\"))\n",
    "        plt.xlabel(\"Generations\")\n",
    "        plt.ylabel(\"Average final stack\")\n",
    "        ax = plt.gca()\n",
    "        ax.set_ylim([95, 105])\n",
    "        plt.show()"
   ]
  },
  {
   "cell_type": "markdown",
   "id": "8050e70c-a084-40be-820e-2e566f29f048",
   "metadata": {},
   "source": [
    "The last agent (the one with a big step size of 0.1) can get stuck into a bad local minimum since it gives too much importantce to the last hands and explores less and less, thus if it gets unlucky several times with AA for instance, it will only fold and will always lose."
   ]
  },
  {
   "cell_type": "code",
   "execution_count": null,
   "id": "99f64563-b9a1-433a-aee1-1504543fbc1d",
   "metadata": {},
   "outputs": [],
   "source": []
  }
 ],
 "metadata": {
  "interpreter": {
   "hash": "1ae41100f6d314d5b1c73ee87cbd1486b39c12788d7652902c395b0e193dba05"
  },
  "kernelspec": {
   "display_name": "Python (venv)",
   "language": "python",
   "name": "python3"
  },
  "language_info": {
   "codemirror_mode": {
    "name": "ipython",
    "version": 3
   },
   "file_extension": ".py",
   "mimetype": "text/x-python",
   "name": "python",
   "nbconvert_exporter": "python",
   "pygments_lexer": "ipython3",
   "version": "3.7.11"
  }
 },
 "nbformat": 4,
 "nbformat_minor": 5
}
