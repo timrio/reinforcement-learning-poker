{
 "cells": [
  {
   "cell_type": "markdown",
   "id": "efc20b17-4135-45b6-a06c-24192262dc06",
   "metadata": {},
   "source": [
    "---\n",
    "Vérifier qu'on n'est pas en 3.10.2 (sinon PyTorch ne marchera pas)"
   ]
  },
  {
   "cell_type": "markdown",
   "id": "efc20b17-4135-45b6-a06c-24192262dc06",
   "metadata": {},
   "source": [
    "---\n",
    "Vérifier qu'on n'est pas en 3.10.2 (sinon PyTorch ne marchera pas)"
   ]
  },
  {
   "cell_type": "code",
   "execution_count": 94,
   "id": "c183a798-d4cf-4255-a655-49a421fd46d3",
   "metadata": {},
   "outputs": [
    {
     "name": "stdout",
     "output_type": "stream",
     "text": [
      "3.8.10 (tags/v3.8.10:3d8993a, May  3 2021, 11:48:03) [MSC v.1928 64 bit (AMD64)]\n"
     ]
    }
   ],
   "source": [
    "import sys\n",
    "print(sys.version)"
   ]
  },
  {
   "cell_type": "markdown",
   "id": "9e856d00-aebe-4c1f-b801-b6fcbc5a0301",
   "metadata": {},
   "source": [
    "---\n",
    "Imports - notemment de clubs_gym (https://github.com/fschlatt/clubs_gym)"
   ]
  },
  {
   "cell_type": "code",
   "execution_count": 95,
   "id": "62db73dc-8949-48e8-b793-44e03d980345",
   "metadata": {},
   "outputs": [],
   "source": [
    "import gym\n",
    "import clubs_gym\n",
    "import time\n",
    "import random\n",
    "import numpy as np\n",
    "import pickle\n",
    "from tqdm import tqdm\n",
    "import torch\n",
    "import torch.nn as nn\n",
    "import torch.optim as optim\n",
    "import torch.nn.functional as F\n",
    "import torchvision.transforms as T\n",
    "import matplotlib.pyplot as plt"
   ]
  },
  {
   "cell_type": "markdown",
   "id": "5b50f010-05d0-427b-b5ec-6496ceb7aed0",
   "metadata": {},
   "source": [
    "---\n",
    "Liste des environnements disponibles"
   ]
  },
  {
   "cell_type": "code",
   "execution_count": 96,
   "id": "0e9ce39a-be22-4143-922f-2237f9c0a7c7",
   "metadata": {},
   "outputs": [
    {
     "data": {
      "text/plain": [
       "['LeducTwoPlayer-v0',\n",
       " 'KuhnTwoPlayer-v0',\n",
       " 'KuhnThreePlayer-v0',\n",
       " 'LimitHoldemTwoPlayer-v0',\n",
       " 'LimitHoldemSixPlayer-v0',\n",
       " 'LimitHoldemNinePlayer-v0',\n",
       " 'NoLimitHoldemTwoPlayer-v0',\n",
       " 'NoLimitHoldemSixPlayer-v0',\n",
       " 'NoLimitHoldemNinePlayer-v0',\n",
       " 'NoLimitHoldemBbAnteNinePlayer-v0',\n",
       " 'PotLimitOmahaTwoPlayer-v0',\n",
       " 'PotLimitOmahaSixPlayer-v0',\n",
       " 'PotLimitOmahaNinePlayer-v0',\n",
       " 'ShortDeckTwoPlayer-v0',\n",
       " 'ShortDeckSixPlayer-v0',\n",
       " 'ShortDeckNinePlayer-v0']"
      ]
     },
     "execution_count": 96,
     "metadata": {},
     "output_type": "execute_result"
    }
   ],
   "source": [
    "clubs_gym.ENVS"
   ]
  },
  {
   "cell_type": "markdown",
   "id": "d537f17d-98cb-492b-a495-dda6c21db7a2",
   "metadata": {},
   "source": [
    "Ne nous intéressera que `NoLimitHoldemTwoPlayer-v0` et `NoLimitHoldemSixPlayer-v0`"
   ]
  },
  {
   "cell_type": "markdown",
   "id": "34a4c9a9-9288-4f66-918e-ddb64771bec1",
   "metadata": {},
   "source": [
    "---\n",
    "Ouvrons `NoLimitHoldemTwoPlayer-v0`."
   ]
  },
  {
   "cell_type": "code",
   "execution_count": 97,
   "id": "4f85fcfc-d342-46e5-9167-b649244043fb",
   "metadata": {},
   "outputs": [],
   "source": [
    "env_str = \"NoLimitHoldemTwoPlayer-v0\"\n",
    "num_players = 2  # heads-up\n",
    "num_streets = 4  # texas hold'em\n",
    "blinds = [1, 2]  # as on the tables on which we used to play @Jean\n",
    "antes = 0  # a bit weird to have antes in a heads-up I reckon (single ints are expanded to the number of players so could've inputted a list)\n",
    "raise_sizes = ['inf', 'inf', 'inf', 'inf']  # yes the documentation is wrong, 'inf' should be used and not float('inf')\n",
    "num_raises = 'inf'  # max number of bets for each street* (including preflop)\n",
    "num_suits = 4  # number of suits to use in deck (obviously 4 otherwise I mean it's weird)\n",
    "num_ranks = 13  # same, obviously 13 (A, 2, 3, 4, 5, 6, 7, 8, 9, T, J, Q, K)\n",
    "num_hole_cards = 2  # **\n",
    "mandatory_num_hole_cards = 0  # you can use the fives on the board and it will end up being a draw if your enemy does it too\n",
    "num_community_cards = [0, 3, 1, 1]  # preflop, flop, turn, river\n",
    "start_stack = 100  # as on the tables on which we used to play @Jean (actually it was any integer between 80 and 200)\n",
    "n_cards_for_hand = 5  # texas hold'em\n",
    "order = ['sf', 'fk', 'fh', 'fl', 'st', 'tk', 'tp', 'pa', 'hc']  # most likely optional, but just to make sure we're working with the right order\n",
    "\n",
    "config_dict = {'num_players': num_players,\n",
    "               'num_streets': num_streets,\n",
    "               'blinds': blinds,\n",
    "               'antes': antes,\n",
    "               'raise_sizes': raise_sizes,\n",
    "               'num_raises': num_raises,\n",
    "               'num_suits': num_suits,\n",
    "               'num_ranks': num_ranks,\n",
    "               'num_hole_cards': num_hole_cards,\n",
    "               'mandatory_num_hole_cards': mandatory_num_hole_cards,\n",
    "               'num_community_cards': num_community_cards,\n",
    "               'start_stack': start_stack,\n",
    "               'num_cards_for_hand': n_cards_for_hand,\n",
    "               'order': order}\n"
   ]
  },
  {
   "cell_type": "markdown",
   "id": "d1f7f179-4f96-4f4d-b7a7-d512405f139b",
   "metadata": {},
   "source": [
    "---\n",
    "Un peu de vocabulaire pour les zguegs (là où y avait des * au-dessus):\n",
    "- \\* A card that’s dealt in a particular betting round, in many poker variants, is called a **street**. For example, in Texas Hold’em and Omaha, the community cards are referred to as the flop, turn and river, with the turn and river sometimes referred to as Fourth Street and Fifth Street.\n",
    "- ** The term **hole cards' in poker signals that the cards are private cards that should only be viewed by the player. The dealer deals hole cards face down and players should ensure that the value of those cards remains secret."
   ]
  },
  {
   "cell_type": "markdown",
   "id": "16101591-27cf-4557-a5d0-461b714bb1ba",
   "metadata": {},
   "source": [
    "---\n",
    "`obs` est illisible donc on fait une fonction `print_obs` pour avoir des jolis prints sur ce qu'il se passe."
   ]
  },
  {
   "cell_type": "code",
   "execution_count": 98,
   "id": "77be690f-5596-499c-a36e-9d009e648a50",
   "metadata": {},
   "outputs": [],
   "source": [
    "def print_obs(obs):\n",
    "    \"\"\"\n",
    "    Fancy print of stats for the clubs gym poker gym.\n",
    "    All Cards displayed (on voit les cartes de tout le monde quoi)\n",
    "    \n",
    "    param: obs: le premier chose renvoyé par env.step\n",
    "    return: nada\n",
    "    \"\"\"\n",
    "    for _ in range(5):\n",
    "        print('---')\n",
    "    print('------------------- Players\\' stacks -------------------')\n",
    "    print(f\"player_0: {obs['stacks'][0]}\\n\" + \\\n",
    "          f\"player_1: {obs['stacks'][1]}\")\n",
    "    print('------------------- Game Stats -------------------')\n",
    "    print(f'community_cards: {obs[\"community_cards\"]}')\n",
    "    print(f'Dealer/Button: {obs[\"button\"] % 2}')\n",
    "    print(f'Pot: {obs[\"pot\"]}')\n",
    "    print(f'Commits: player_0: {obs[\"street_commits\"][0]} |||  player_1: {obs[\"street_commits\"][1]}')\n",
    "\n",
    "    if not obs['action'] == -1:\n",
    "        print(f\"\\n---------------- player {obs['action']}'s turn ----------------\")\n",
    "        print(f'hole_cards: {obs[\"hole_cards\"]}')\n",
    "        print(f'call: {obs[\"call\"]}, min_raise: {obs[\"min_raise\"]}, max_raise: {obs[\"max_raise\"]}', end='\\n\\n')\n",
    "    else:\n",
    "        print('\\n[INFO] - End of the Game.')"
   ]
  },
  {
   "cell_type": "markdown",
   "id": "b8b26875-7c1a-4eaa-91fd-7c6f4fa11eb2",
   "metadata": {},
   "source": [
    "---\n",
    "Main\n",
    "\n",
    "Dans `env.step`, mettre un integer qui correspond à ce que vous voulez miser. \n",
    "- Si la mise est inférieure à la mise minimum, vous vous couchez. \n",
    "- Si la mise est supérieure à la mise maximum (en no limit, ça veut dire vous voulez miser plus que ce que vous détenez) alors all in.\n",
    "\n",
    "Le truc ci-dessous vous fait changer de joueur pré/post flop - désolé. This is because *in Heads Up poker, the button acts first preflop and last postflop*."
   ]
  },
  {
   "cell_type": "code",
   "execution_count": 99,
   "id": "25490bea",
   "metadata": {},
   "outputs": [],
   "source": [
    "from clubs_gym.agent.base import BaseAgent\n",
    "\n",
    "class RandomAllInFold(BaseAgent):\n",
    "    '''\n",
    "    this agent bets everyting or folds (50/50 chance)\n",
    "    '''\n",
    "    def __init__(self, player_id, seed = 42):\n",
    "        self.rand_generator = np.random.RandomState(seed)\n",
    "        self.player_id = player_id\n",
    "\n",
    "    def act(self, info_dict):\n",
    "        available_chips = info_dict['stacks'][self.player_id]\n",
    "        draw = np.random.random()\n",
    "        if draw >= 0.5:\n",
    "            action = 1 \n",
    "        else:\n",
    "            action = 0\n",
    "\n",
    "        ## outpu  \n",
    "        if action == 0:\n",
    "            return(0)\n",
    "        else:\n",
    "            return(available_chips)"
   ]
  },
  {
   "cell_type": "code",
   "execution_count": 100,
   "id": "d599005f",
   "metadata": {},
   "outputs": [],
   "source": [
    "from clubs_gym.agent.base import BaseAgent\n",
    "class HumanRandomAllInFold(BaseAgent):\n",
    "    \"\"\"\n",
    "    only two possible actions, all in or folds\n",
    "    \"\"\"\n",
    "    def __init__(self, player_id, seed = 42):\n",
    "        self.player_id = player_id\n",
    "\n",
    "    def act(self, info_dict):\n",
    "        available_chips = info_dict['stacks'][self.player_id]\n",
    "        action = -1\n",
    "        while action != 0 and action != 1:\n",
    "            action = int(input())\n",
    "        if action == 0:\n",
    "            return(0)\n",
    "        else:\n",
    "            return(available_chips)"
   ]
  },
  {
   "cell_type": "code",
   "execution_count": 101,
   "id": "1d850150",
   "metadata": {},
   "outputs": [],
   "source": [
    "class AllInFoldQLearningAgent(BaseAgent):\n",
    "    \"\"\"\n",
    "    actions:\n",
    "        - 0: folds\n",
    "        - 1: all-in\n",
    "    \"\"\"\n",
    "    def __init__(self, player_id, agent_init_info):\n",
    "        self.player_id = player_id\n",
    "\n",
    "        self.state_size = agent_init_info[\"state_size\"]\n",
    "        self.num_actions = agent_init_info[\"num_actions\"]\n",
    "        self.epsilon = agent_init_info[\"epsilon\"]\n",
    "        self.step_size = agent_init_info[\"step_size\"]\n",
    "        self.discount = agent_init_info[\"discount\"]\n",
    "        self.rand_generator = np.random.RandomState(agent_init_info[\"seed\"])\n",
    "        self.step = 0\n",
    "        self.has_made_a_decision = False \n",
    "        self.q = {}\n",
    "\n",
    "        \n",
    "    def agent_start(self, state):\n",
    "        self.has_made_a_decision = True\n",
    "\n",
    "        tuple_representing_state = (str(state[0]), str(state[1]))\n",
    "        current_q = self.q.setdefault(tuple_representing_state, [0]*self.num_actions)\n",
    "        if self.rand_generator.rand() < self.epsilon:\n",
    "            action = self.rand_generator.randint(self.num_actions) # random action selection\n",
    "        else:\n",
    "            action = self.argmax(current_q) # greedy action selection\n",
    "        self.prev_state = tuple_representing_state\n",
    "        self.prev_action = action\n",
    "        return action\n",
    "    \n",
    "    def agent_step(self, reward, state):\n",
    "        # Choose action using epsilon greedy.\n",
    "        tuple_representing_state = (str(state[0]), str(state[1]))\n",
    "        current_q = self.q.setdefault(tuple_representing_state, [0]*self.num_actions)\n",
    "        if self.rand_generator.rand() < self.epsilon:\n",
    "            action = self.rand_generator.randint(self.num_actions)\n",
    "        else:\n",
    "            action = self.argmax(current_q)\n",
    "        \n",
    "        previous_values_list = self.q[self.prev_state]\n",
    "        previous_values_list[self.prev_action] += self.step_size*(reward + self.discount*np.max(self.q[tuple_representing_state]) - self.q[self.prev_state][self.prev_action])\n",
    "        self.q[self.prev_state] = previous_values_list\n",
    "        \n",
    "        self.prev_state = tuple_representing_state\n",
    "        self.prev_action = action\n",
    "        return action\n",
    "    \n",
    "    def agent_end(self, reward):\n",
    "        if self.has_made_a_decision:\n",
    "            previous_values_list = self.q[self.prev_state]\n",
    "            previous_values_list[self.prev_action] += self.step_size*(reward - self.q[self.prev_state][self.prev_action])\n",
    "            self.q[self.prev_state] = previous_values_list\n",
    "\n",
    "\n",
    "\n",
    "    def act(self, info_dict):\n",
    "        reward = info_dict['rewards'][self.player_id]\n",
    "        done = info_dict['done']\n",
    "        state = info_dict['state']\n",
    "        number_of_chips = info_dict['stacks'][self.player_id]\n",
    "        \n",
    "\n",
    "        if self.step == 0:\n",
    "            action = self.agent_start(state)\n",
    "\n",
    "        elif not done:\n",
    "            action = self.agent_step(reward, state)\n",
    "\n",
    "        elif done:\n",
    "            print(\"weird\")\n",
    "            exit()\n",
    "\n",
    "        self.step += 1\n",
    "        if action == 0:\n",
    "            return(0)\n",
    "        else:\n",
    "            return(number_of_chips)\n",
    "        \n",
    "    def argmax(self, q_values):\n",
    "        top = float(\"-inf\")\n",
    "        ties = []\n",
    "\n",
    "        for i in range(len(q_values)):\n",
    "            if q_values[i] > top:\n",
    "                top = q_values[i]\n",
    "                ties = []\n",
    "\n",
    "            if q_values[i] == top:\n",
    "                ties.append(i)\n",
    "\n",
    "        return self.rand_generator.choice(ties)\n",
    "\n",
    "    def set_epsilon(self, value):\n",
    "        self.epsilon = value\n",
    "\n",
    "    @staticmethod\n",
    "    def load(path):\n",
    "        obj = pickle.load(open(path,'wb'))\n",
    "        return(obj)"
   ]
  },
  {
   "cell_type": "code",
   "execution_count": 116,
   "id": "5bb3acae",
   "metadata": {},
   "outputs": [],
   "source": [
    "class NN(nn.Module):\n",
    "    def __init__(self, input_shape = 52, n_actions = 2):\n",
    "        super(NN, self).__init__()\n",
    "            \n",
    "        self.dense = nn.Sequential(\n",
    "            nn.Linear(input_shape, input_shape),\n",
    "            nn.ReLU(),\n",
    "            nn.Linear(input_shape,  n_actions)\n",
    "        )\n",
    "\n",
    "    def forward(self, x):\n",
    "        o = self.dense(x)\n",
    "        return o"
   ]
  },
  {
   "cell_type": "code",
   "execution_count": 138,
   "id": "2f4cce0e",
   "metadata": {},
   "outputs": [],
   "source": [
    "class DQNAgent(BaseAgent):\n",
    "\n",
    "    def __init__(self, player_id, agent_init_info, batch_size = 100, max_memory_size = 1000000):\n",
    "        self.player_id = player_id\n",
    "\n",
    "        self.state_size = agent_init_info[\"state_size\"]\n",
    "        self.num_actions = agent_init_info[\"num_actions\"]\n",
    "        self.epsilon = agent_init_info[\"epsilon\"]\n",
    "        self.step_size = agent_init_info[\"step_size\"]\n",
    "        self.discount = agent_init_info[\"discount\"]\n",
    "        self.rand_generator = np.random.RandomState(agent_init_info[\"seed\"])\n",
    "        self.has_made_a_decision = False \n",
    "        self.q = {}\n",
    "        self.counter = 0\n",
    "        \n",
    "        self.state = None\n",
    "        self.next_state = None\n",
    "        self.action = None\n",
    "\n",
    "\n",
    "        self.device = 'cuda' if torch.cuda.is_available() else 'cpu'\n",
    "        \n",
    "        # DQN network  \n",
    "        self.dqn = NN(52, self.num_actions).to(self.device)\n",
    "        self.optimizer = torch.optim.Adam(self.dqn.parameters(), lr=self.step_size)\n",
    "\n",
    "        self.target_network = NN(52, self.num_actions).to(self.device).eval()\n",
    "\n",
    "        # Create memory\n",
    "        self.max_memory_size = max_memory_size\n",
    "\n",
    "        self.STATE_MEM = torch.zeros(max_memory_size, *self.state_size)\n",
    "        self.ACTION_MEM = torch.zeros(max_memory_size, 1)\n",
    "        self.REWARD_MEM = torch.zeros(max_memory_size, 1)\n",
    "        self.STATE2_MEM = torch.zeros(max_memory_size, *self.state_size)\n",
    "        self.DONE_MEM = torch.zeros(max_memory_size, 1)\n",
    "        self.ending_position = 0\n",
    "        self.num_in_queue = 0\n",
    "        \n",
    "        self.batch_size = batch_size\n",
    "        \n",
    "        # Learning parameters\n",
    "        self.mse_loss = nn.MSELoss().to(self.device) # Also known as Huber loss\n",
    "\n",
    "    def one_hot_encode_card(self, card):\n",
    "        encoding = [0 for i in range(52)]\n",
    "        families = {'♥':0, '♠':1, '♦':2, '♣':3}\n",
    "        values = {'A':0, '2':1, '3':2, '4':3, '5':4, '6':5, '7':6, '8':7, '9':8, 'T':9, 'J':10, 'Q':11, 'K':12}\n",
    "        val = card[:-1]\n",
    "        fam = card[-1]\n",
    "        encoding_value = 13*families[fam] + values[val]\n",
    "        encoding[encoding_value] = 1\n",
    "        return(encoding)\n",
    "\n",
    "    def remember(self, state, action, reward, state2, done):\n",
    "        \"\"\"Store the experiences in a buffer to use later\"\"\"\n",
    "        # convert to tensor\n",
    "        state = torch.Tensor(state)\n",
    "        action = torch.tensor([action])\n",
    "        state2 = torch.Tensor([state2])\n",
    "        reward = torch.tensor([reward])\n",
    "        done = torch.tensor([int(done)])\n",
    "\n",
    "\n",
    "        self.STATE_MEM[self.ending_position] = state.float()\n",
    "        self.ACTION_MEM[self.ending_position] = action.float()\n",
    "        self.REWARD_MEM[self.ending_position] = reward.float()\n",
    "        self.STATE2_MEM[self.ending_position] = state2.float()\n",
    "        self.DONE_MEM[self.ending_position] = done.float()\n",
    "        self.ending_position = (self.ending_position + 1) \n",
    "    \n",
    "    def batch_experiences(self):\n",
    "        \"\"\"Randomly sample 'batch size' experiences\"\"\"\n",
    "        idx = random.choices(range(self.ending_position), k = self.batch_size)\n",
    "        STATE = self.STATE_MEM[idx]\n",
    "        ACTION = self.ACTION_MEM[idx]\n",
    "        REWARD = self.REWARD_MEM[idx]\n",
    "        STATE2 = self.STATE2_MEM[idx]\n",
    "        DONE = self.DONE_MEM[idx]      \n",
    "        return STATE, ACTION, REWARD, STATE2, DONE\n",
    "    \n",
    "    def step(self, state):\n",
    "        \"\"\"Epsilon-greedy action\"\"\"\n",
    "        state = torch.Tensor(state)\n",
    "        if random.random() < self.epsilon:  \n",
    "            return torch.tensor([[random.randrange(self.num_actions)]])\n",
    "        else:\n",
    "            state = torch.unsqueeze(state, dim = 0)\n",
    "            with torch.no_grad():\n",
    "                return torch.argmax(self.dqn(state.to(self.device))).unsqueeze(0).unsqueeze(0).cpu()\n",
    "\n",
    "    def update_target_network(self):\n",
    "        self.target_network.load_state_dict(self.dqn.state_dict())\n",
    "        self.target_network.eval()\n",
    "\n",
    "    def experience_replay(self):\n",
    "        if self.batch_size >= self.ending_position:\n",
    "            return\n",
    "        else:\n",
    "            # Sample a batch of experiences\n",
    "            STATE, ACTION, REWARD, STATE2, DONE = self.batch_experiences()\n",
    "            STATE = STATE.to(self.device)\n",
    "            ACTION = ACTION.to(self.device)\n",
    "            REWARD = REWARD.to(self.device)\n",
    "            STATE2 = STATE2.to(self.device)\n",
    "            DONE = DONE.to(self.device)\n",
    "\n",
    "            # compute target to predict\n",
    "            with torch.no_grad():\n",
    "                future_q_s = self.target_network(STATE2)\n",
    "            # next values if best action taken\n",
    "            future_discounted_rewards = self.discount*future_q_s.max(1).values\n",
    "            target = REWARD +future_discounted_rewards\n",
    "\n",
    "            self.optimizer.zero_grad()\n",
    "            # Q-Learning target is Q*(S, A) <- r + γ max_a Q(S', a) \n",
    "            current = self.dqn(STATE).max(1).values\n",
    "            loss = self.mse_loss(current, target)\n",
    "            print(loss)\n",
    "            loss.backward() # Compute gradients\n",
    "            self.optimizer.step() # Backpropagate error\n",
    "\n",
    "     \n",
    "    def set_epsilon(self, value):\n",
    "        self.epsilon = value\n",
    "\n",
    "\n",
    "    def act(self, info_dict):\n",
    "        reward = info_dict['rewards'][self.player_id]\n",
    "        done = info_dict['done']\n",
    "        state = info_dict['state']\n",
    "        state = np.array(self.one_hot_encode_card(str(state[0])))+np.array(self.one_hot_encode_card(str(state[1]))) # encode hand into a vector\n",
    "        number_of_chips = info_dict['stacks'][self.player_id]\n",
    "\n",
    "        if self.counter%1000 == 0:\n",
    "            # transfer weight every 100 epochs\n",
    "            self.update_target_network()\n",
    "            self.state = state\n",
    "        \n",
    "        if not self.has_made_a_decision:\n",
    "            # first decision but cannot update network yet \n",
    "            self.state = state\n",
    "            action = self.step(state)\n",
    "            self.action = action\n",
    "            self.has_made_a_decision = True\n",
    "\n",
    "        else:\n",
    "            # update state\n",
    "            self.next_state = self.state\n",
    "            self.state = state\n",
    "            # remember\n",
    "            self.remember(self.state, self.action, reward, self.next_state, done)\n",
    "\n",
    "            # train\n",
    "            if self.counter >= self.batch_size and self.counter%10 == 0:\n",
    "                # replay only if enough experiences in memory\n",
    "                self.experience_replay()\n",
    "            \n",
    "            # take new action\n",
    "            action = self.step(self.state)\n",
    "            self.action = action\n",
    "\n",
    "\n",
    "        self.counter += 1\n",
    "        if action == 0:\n",
    "            return(0)\n",
    "        else:\n",
    "            return(number_of_chips)\n",
    "\n",
    "    @staticmethod\n",
    "    def load(path):\n",
    "        obj = pickle.load(open(path,'wb'))\n",
    "        return(obj)"
   ]
  },
  {
   "cell_type": "code",
   "execution_count": 140,
   "id": "3d2f41cb-0b18-4a29-96d3-76947b43d486",
   "metadata": {},
   "outputs": [
    {
     "name": "stderr",
     "output_type": "stream",
     "text": [
      "  0%|          | 68/100000 [00:00<05:10, 322.04it/s]"
     ]
    },
    {
     "name": "stdout",
     "output_type": "stream",
     "text": [
      "tensor(300.4641, device='cuda:0', grad_fn=<MseLossBackward0>)\n",
      "tensor(398.2038, device='cuda:0', grad_fn=<MseLossBackward0>)\n",
      "tensor(14.1450, device='cuda:0', grad_fn=<MseLossBackward0>)\n",
      "tensor(310.1714, device='cuda:0', grad_fn=<MseLossBackward0>)\n",
      "tensor(198.6781, device='cuda:0', grad_fn=<MseLossBackward0>)\n",
      "tensor(202.1883, device='cuda:0', grad_fn=<MseLossBackward0>)\n",
      "tensor(300.8004, device='cuda:0', grad_fn=<MseLossBackward0>)\n",
      "tensor(300.3970, device='cuda:0', grad_fn=<MseLossBackward0>)\n",
      "tensor(200.4682, device='cuda:0', grad_fn=<MseLossBackward0>)\n",
      "tensor(200.5380, device='cuda:0', grad_fn=<MseLossBackward0>)\n"
     ]
    },
    {
     "name": "stderr",
     "output_type": "stream",
     "text": [
      "  0%|          | 130/100000 [00:00<06:27, 257.82it/s]"
     ]
    },
    {
     "name": "stdout",
     "output_type": "stream",
     "text": [
      "tensor(299.9745, device='cuda:0', grad_fn=<MseLossBackward0>)\n",
      "tensor(0.4189, device='cuda:0', grad_fn=<MseLossBackward0>)\n",
      "tensor(0.4511, device='cuda:0', grad_fn=<MseLossBackward0>)\n",
      "tensor(99.6178, device='cuda:0', grad_fn=<MseLossBackward0>)\n",
      "tensor(0.4293, device='cuda:0', grad_fn=<MseLossBackward0>)\n",
      "tensor(99.6235, device='cuda:0', grad_fn=<MseLossBackward0>)\n",
      "tensor(198.6043, device='cuda:0', grad_fn=<MseLossBackward0>)\n",
      "tensor(198.1501, device='cuda:0', grad_fn=<MseLossBackward0>)\n",
      "tensor(200.3870, device='cuda:0', grad_fn=<MseLossBackward0>)\n"
     ]
    },
    {
     "name": "stderr",
     "output_type": "stream",
     "text": [
      "  0%|          | 181/100000 [00:00<07:21, 225.89it/s]"
     ]
    },
    {
     "name": "stdout",
     "output_type": "stream",
     "text": [
      "tensor(198.2017, device='cuda:0', grad_fn=<MseLossBackward0>)\n",
      "tensor(101.9716, device='cuda:0', grad_fn=<MseLossBackward0>)\n",
      "tensor(0.9947, device='cuda:0', grad_fn=<MseLossBackward0>)\n",
      "tensor(502.4796, device='cuda:0', grad_fn=<MseLossBackward0>)\n",
      "tensor(99.3073, device='cuda:0', grad_fn=<MseLossBackward0>)\n",
      "tensor(102.1180, device='cuda:0', grad_fn=<MseLossBackward0>)\n",
      "tensor(298.9879, device='cuda:0', grad_fn=<MseLossBackward0>)\n",
      "tensor(299.3770, device='cuda:0', grad_fn=<MseLossBackward0>)\n",
      "tensor(200.5322, device='cuda:0', grad_fn=<MseLossBackward0>)\n"
     ]
    },
    {
     "name": "stderr",
     "output_type": "stream",
     "text": [
      "  0%|          | 226/100000 [00:00<08:01, 207.42it/s]"
     ]
    },
    {
     "name": "stdout",
     "output_type": "stream",
     "text": [
      "tensor(496.2078, device='cuda:0', grad_fn=<MseLossBackward0>)\n",
      "tensor(200.6638, device='cuda:0', grad_fn=<MseLossBackward0>)\n",
      "tensor(98.9490, device='cuda:0', grad_fn=<MseLossBackward0>)\n",
      "tensor(0.4981, device='cuda:0', grad_fn=<MseLossBackward0>)\n",
      "tensor(0.8311, device='cuda:0', grad_fn=<MseLossBackward0>)\n",
      "tensor(0.5962, device='cuda:0', grad_fn=<MseLossBackward0>)\n",
      "tensor(197.2251, device='cuda:0', grad_fn=<MseLossBackward0>)\n",
      "tensor(492.0644, device='cuda:0', grad_fn=<MseLossBackward0>)\n"
     ]
    },
    {
     "name": "stderr",
     "output_type": "stream",
     "text": [
      "  0%|          | 247/100000 [00:01<08:28, 196.12it/s]"
     ]
    },
    {
     "name": "stdout",
     "output_type": "stream",
     "text": [
      "tensor(295.4574, device='cuda:0', grad_fn=<MseLossBackward0>)\n",
      "tensor(295.0704, device='cuda:0', grad_fn=<MseLossBackward0>)\n",
      "tensor(103.0703, device='cuda:0', grad_fn=<MseLossBackward0>)\n",
      "tensor(200.7857, device='cuda:0', grad_fn=<MseLossBackward0>)\n",
      "tensor(201.0221, device='cuda:0', grad_fn=<MseLossBackward0>)\n",
      "tensor(0.9181, device='cuda:0', grad_fn=<MseLossBackward0>)\n",
      "tensor(1.3459, device='cuda:0', grad_fn=<MseLossBackward0>)\n",
      "tensor(303.3113, device='cuda:0', grad_fn=<MseLossBackward0>)\n"
     ]
    },
    {
     "name": "stderr",
     "output_type": "stream",
     "text": [
      "  0%|          | 317/100000 [00:01<07:47, 213.35it/s]"
     ]
    },
    {
     "name": "stdout",
     "output_type": "stream",
     "text": [
      "tensor(205.8686, device='cuda:0', grad_fn=<MseLossBackward0>)\n",
      "tensor(98.9380, device='cuda:0', grad_fn=<MseLossBackward0>)\n",
      "tensor(205.3224, device='cuda:0', grad_fn=<MseLossBackward0>)\n",
      "tensor(298.4699, device='cuda:0', grad_fn=<MseLossBackward0>)\n",
      "tensor(196.5895, device='cuda:0', grad_fn=<MseLossBackward0>)\n",
      "tensor(200.7559, device='cuda:0', grad_fn=<MseLossBackward0>)\n",
      "tensor(498.5442, device='cuda:0', grad_fn=<MseLossBackward0>)\n",
      "tensor(204.7260, device='cuda:0', grad_fn=<MseLossBackward0>)\n",
      "tensor(404.8527, device='cuda:0', grad_fn=<MseLossBackward0>)\n"
     ]
    },
    {
     "name": "stderr",
     "output_type": "stream",
     "text": [
      "  0%|          | 365/100000 [00:01<07:26, 223.11it/s]"
     ]
    },
    {
     "name": "stdout",
     "output_type": "stream",
     "text": [
      "tensor(302.9038, device='cuda:0', grad_fn=<MseLossBackward0>)\n",
      "tensor(298.9050, device='cuda:0', grad_fn=<MseLossBackward0>)\n",
      "tensor(0.5291, device='cuda:0', grad_fn=<MseLossBackward0>)\n",
      "tensor(98.8665, device='cuda:0', grad_fn=<MseLossBackward0>)\n",
      "tensor(295.7120, device='cuda:0', grad_fn=<MseLossBackward0>)\n",
      "tensor(200.7006, device='cuda:0', grad_fn=<MseLossBackward0>)\n",
      "tensor(102.3179, device='cuda:0', grad_fn=<MseLossBackward0>)\n",
      "tensor(197.3203, device='cuda:0', grad_fn=<MseLossBackward0>)\n",
      "tensor(397.6274, device='cuda:0', grad_fn=<MseLossBackward0>)\n"
     ]
    },
    {
     "name": "stderr",
     "output_type": "stream",
     "text": [
      "  0%|          | 389/100000 [00:01<07:20, 226.28it/s]"
     ]
    },
    {
     "name": "stdout",
     "output_type": "stream",
     "text": [
      "tensor(302.0239, device='cuda:0', grad_fn=<MseLossBackward0>)\n",
      "tensor(299.0173, device='cuda:0', grad_fn=<MseLossBackward0>)\n",
      "tensor(98.8818, device='cuda:0', grad_fn=<MseLossBackward0>)\n",
      "tensor(403.5492, device='cuda:0', grad_fn=<MseLossBackward0>)\n",
      "tensor(99.0597, device='cuda:0', grad_fn=<MseLossBackward0>)\n",
      "tensor(102.0334, device='cuda:0', grad_fn=<MseLossBackward0>)\n",
      "tensor(0.3609, device='cuda:0', grad_fn=<MseLossBackward0>)\n",
      "tensor(200.4414, device='cuda:0', grad_fn=<MseLossBackward0>)\n",
      "tensor(99.1401, device='cuda:0', grad_fn=<MseLossBackward0>)\n",
      "tensor(101.8276, device='cuda:0', grad_fn=<MseLossBackward0>)\n"
     ]
    },
    {
     "name": "stderr",
     "output_type": "stream",
     "text": [
      "  0%|          | 434/100000 [00:01<08:02, 206.25it/s]"
     ]
    },
    {
     "name": "stdout",
     "output_type": "stream",
     "text": [
      "tensor(102.1040, device='cuda:0', grad_fn=<MseLossBackward0>)\n",
      "tensor(400.4806, device='cuda:0', grad_fn=<MseLossBackward0>)\n",
      "tensor(197.8661, device='cuda:0', grad_fn=<MseLossBackward0>)\n",
      "tensor(200.4809, device='cuda:0', grad_fn=<MseLossBackward0>)\n",
      "tensor(400.5273, device='cuda:0', grad_fn=<MseLossBackward0>)\n",
      "tensor(296.7357, device='cuda:0', grad_fn=<MseLossBackward0>)\n",
      "tensor(398.0034, device='cuda:0', grad_fn=<MseLossBackward0>)\n",
      "tensor(0.3947, device='cuda:0', grad_fn=<MseLossBackward0>)\n"
     ]
    },
    {
     "name": "stderr",
     "output_type": "stream",
     "text": [
      "  0%|          | 477/100000 [00:02<08:05, 204.97it/s]"
     ]
    },
    {
     "name": "stdout",
     "output_type": "stream",
     "text": [
      "tensor(0.3466, device='cuda:0', grad_fn=<MseLossBackward0>)\n",
      "tensor(304.3545, device='cuda:0', grad_fn=<MseLossBackward0>)\n",
      "tensor(99.1097, device='cuda:0', grad_fn=<MseLossBackward0>)\n",
      "tensor(0.6658, device='cuda:0', grad_fn=<MseLossBackward0>)\n",
      "tensor(299.2178, device='cuda:0', grad_fn=<MseLossBackward0>)\n",
      "tensor(200.3479, device='cuda:0', grad_fn=<MseLossBackward0>)\n",
      "tensor(0.5308, device='cuda:0', grad_fn=<MseLossBackward0>)\n",
      "tensor(99.1496, device='cuda:0', grad_fn=<MseLossBackward0>)\n",
      "tensor(200.5369, device='cuda:0', grad_fn=<MseLossBackward0>)\n",
      "tensor(200.5200, device='cuda:0', grad_fn=<MseLossBackward0>)\n"
     ]
    },
    {
     "name": "stderr",
     "output_type": "stream",
     "text": [
      "  1%|          | 528/100000 [00:02<07:16, 227.83it/s]"
     ]
    },
    {
     "name": "stdout",
     "output_type": "stream",
     "text": [
      "tensor(400.4715, device='cuda:0', grad_fn=<MseLossBackward0>)\n",
      "tensor(0.5993, device='cuda:0', grad_fn=<MseLossBackward0>)\n",
      "tensor(100.5761, device='cuda:0', grad_fn=<MseLossBackward0>)\n",
      "tensor(300.6274, device='cuda:0', grad_fn=<MseLossBackward0>)\n",
      "tensor(200.4122, device='cuda:0', grad_fn=<MseLossBackward0>)\n",
      "tensor(100.5278, device='cuda:0', grad_fn=<MseLossBackward0>)\n",
      "tensor(0.6789, device='cuda:0', grad_fn=<MseLossBackward0>)\n",
      "tensor(100.4956, device='cuda:0', grad_fn=<MseLossBackward0>)\n",
      "tensor(201.1468, device='cuda:0', grad_fn=<MseLossBackward0>)\n",
      "tensor(0.6786, device='cuda:0', grad_fn=<MseLossBackward0>)\n"
     ]
    },
    {
     "name": "stderr",
     "output_type": "stream",
     "text": [
      "  1%|          | 597/100000 [00:02<07:26, 222.74it/s]"
     ]
    },
    {
     "name": "stdout",
     "output_type": "stream",
     "text": [
      "tensor(0.7100, device='cuda:0', grad_fn=<MseLossBackward0>)\n",
      "tensor(0.6252, device='cuda:0', grad_fn=<MseLossBackward0>)\n",
      "tensor(300.4416, device='cuda:0', grad_fn=<MseLossBackward0>)\n",
      "tensor(100.9313, device='cuda:0', grad_fn=<MseLossBackward0>)\n",
      "tensor(200.3512, device='cuda:0', grad_fn=<MseLossBackward0>)\n",
      "tensor(100.8000, device='cuda:0', grad_fn=<MseLossBackward0>)\n",
      "tensor(100.6966, device='cuda:0', grad_fn=<MseLossBackward0>)\n",
      "tensor(0.6140, device='cuda:0', grad_fn=<MseLossBackward0>)\n",
      "tensor(0.5453, device='cuda:0', grad_fn=<MseLossBackward0>)\n"
     ]
    },
    {
     "name": "stderr",
     "output_type": "stream",
     "text": [
      "  1%|          | 643/100000 [00:02<07:21, 224.91it/s]"
     ]
    },
    {
     "name": "stdout",
     "output_type": "stream",
     "text": [
      "tensor(0.6663, device='cuda:0', grad_fn=<MseLossBackward0>)\n",
      "tensor(0.4409, device='cuda:0', grad_fn=<MseLossBackward0>)\n",
      "tensor(200.2784, device='cuda:0', grad_fn=<MseLossBackward0>)\n",
      "tensor(100.6695, device='cuda:0', grad_fn=<MseLossBackward0>)\n",
      "tensor(100.0975, device='cuda:0', grad_fn=<MseLossBackward0>)\n",
      "tensor(100.0207, device='cuda:0', grad_fn=<MseLossBackward0>)\n",
      "tensor(299.9128, device='cuda:0', grad_fn=<MseLossBackward0>)\n",
      "tensor(99.8936, device='cuda:0', grad_fn=<MseLossBackward0>)\n",
      "tensor(101.0053, device='cuda:0', grad_fn=<MseLossBackward0>)\n"
     ]
    },
    {
     "name": "stderr",
     "output_type": "stream",
     "text": [
      "  1%|          | 666/100000 [00:02<07:27, 221.73it/s]"
     ]
    },
    {
     "name": "stdout",
     "output_type": "stream",
     "text": [
      "tensor(0.5016, device='cuda:0', grad_fn=<MseLossBackward0>)\n",
      "tensor(200.4251, device='cuda:0', grad_fn=<MseLossBackward0>)\n",
      "tensor(302.8948, device='cuda:0', grad_fn=<MseLossBackward0>)\n",
      "tensor(0.3557, device='cuda:0', grad_fn=<MseLossBackward0>)\n",
      "tensor(200.3066, device='cuda:0', grad_fn=<MseLossBackward0>)\n",
      "tensor(198.6847, device='cuda:0', grad_fn=<MseLossBackward0>)\n",
      "tensor(202.1817, device='cuda:0', grad_fn=<MseLossBackward0>)\n",
      "tensor(0.3684, device='cuda:0', grad_fn=<MseLossBackward0>)\n",
      "tensor(303.0673, device='cuda:0', grad_fn=<MseLossBackward0>)\n",
      "tensor(101.2994, device='cuda:0', grad_fn=<MseLossBackward0>)\n"
     ]
    },
    {
     "name": "stderr",
     "output_type": "stream",
     "text": [
      "  1%|          | 741/100000 [00:03<07:02, 234.90it/s]"
     ]
    },
    {
     "name": "stdout",
     "output_type": "stream",
     "text": [
      "tensor(202.0415, device='cuda:0', grad_fn=<MseLossBackward0>)\n",
      "tensor(0.4318, device='cuda:0', grad_fn=<MseLossBackward0>)\n",
      "tensor(299.6083, device='cuda:0', grad_fn=<MseLossBackward0>)\n",
      "tensor(0.3110, device='cuda:0', grad_fn=<MseLossBackward0>)\n",
      "tensor(101.0294, device='cuda:0', grad_fn=<MseLossBackward0>)\n",
      "tensor(200.3069, device='cuda:0', grad_fn=<MseLossBackward0>)\n",
      "tensor(99.8938, device='cuda:0', grad_fn=<MseLossBackward0>)\n",
      "tensor(301.9607, device='cuda:0', grad_fn=<MseLossBackward0>)\n",
      "tensor(99.8620, device='cuda:0', grad_fn=<MseLossBackward0>)\n",
      "tensor(200.4205, device='cuda:0', grad_fn=<MseLossBackward0>)\n"
     ]
    },
    {
     "name": "stderr",
     "output_type": "stream",
     "text": [
      "  1%|          | 766/100000 [00:03<07:04, 233.87it/s]"
     ]
    },
    {
     "name": "stdout",
     "output_type": "stream",
     "text": [
      "tensor(0.4933, device='cuda:0', grad_fn=<MseLossBackward0>)\n",
      "tensor(199.6756, device='cuda:0', grad_fn=<MseLossBackward0>)\n",
      "tensor(100.0791, device='cuda:0', grad_fn=<MseLossBackward0>)\n",
      "tensor(201.2813, device='cuda:0', grad_fn=<MseLossBackward0>)\n",
      "tensor(201.1487, device='cuda:0', grad_fn=<MseLossBackward0>)\n",
      "tensor(100.7785, device='cuda:0', grad_fn=<MseLossBackward0>)\n",
      "tensor(0.2882, device='cuda:0', grad_fn=<MseLossBackward0>)\n",
      "tensor(100.7401, device='cuda:0', grad_fn=<MseLossBackward0>)\n",
      "tensor(201.0995, device='cuda:0', grad_fn=<MseLossBackward0>)\n",
      "tensor(0.4695, device='cuda:0', grad_fn=<MseLossBackward0>)\n"
     ]
    },
    {
     "name": "stderr",
     "output_type": "stream",
     "text": [
      "  1%|          | 842/100000 [00:03<06:51, 240.87it/s]"
     ]
    },
    {
     "name": "stdout",
     "output_type": "stream",
     "text": [
      "tensor(100.3420, device='cuda:0', grad_fn=<MseLossBackward0>)\n",
      "tensor(100.6857, device='cuda:0', grad_fn=<MseLossBackward0>)\n",
      "tensor(200.7282, device='cuda:0', grad_fn=<MseLossBackward0>)\n",
      "tensor(200.4476, device='cuda:0', grad_fn=<MseLossBackward0>)\n",
      "tensor(300.3228, device='cuda:0', grad_fn=<MseLossBackward0>)\n",
      "tensor(200.4189, device='cuda:0', grad_fn=<MseLossBackward0>)\n",
      "tensor(100.3727, device='cuda:0', grad_fn=<MseLossBackward0>)\n",
      "tensor(0.4476, device='cuda:0', grad_fn=<MseLossBackward0>)\n",
      "tensor(100.1510, device='cuda:0', grad_fn=<MseLossBackward0>)\n",
      "tensor(0.3367, device='cuda:0', grad_fn=<MseLossBackward0>)\n"
     ]
    },
    {
     "name": "stderr",
     "output_type": "stream",
     "text": [
      "  1%|          | 894/100000 [00:03<06:41, 246.54it/s]"
     ]
    },
    {
     "name": "stdout",
     "output_type": "stream",
     "text": [
      "tensor(100.0308, device='cuda:0', grad_fn=<MseLossBackward0>)\n",
      "tensor(201.2341, device='cuda:0', grad_fn=<MseLossBackward0>)\n",
      "tensor(0.4136, device='cuda:0', grad_fn=<MseLossBackward0>)\n",
      "tensor(0.4143, device='cuda:0', grad_fn=<MseLossBackward0>)\n",
      "tensor(299.7928, device='cuda:0', grad_fn=<MseLossBackward0>)\n",
      "tensor(99.6753, device='cuda:0', grad_fn=<MseLossBackward0>)\n",
      "tensor(0.3701, device='cuda:0', grad_fn=<MseLossBackward0>)\n",
      "tensor(101.1652, device='cuda:0', grad_fn=<MseLossBackward0>)\n",
      "tensor(101.0982, device='cuda:0', grad_fn=<MseLossBackward0>)\n",
      "tensor(201.9806, device='cuda:0', grad_fn=<MseLossBackward0>)\n"
     ]
    },
    {
     "name": "stderr",
     "output_type": "stream",
     "text": [
      "  1%|          | 919/100000 [00:04<06:49, 242.17it/s]"
     ]
    },
    {
     "name": "stdout",
     "output_type": "stream",
     "text": [
      "tensor(299.5132, device='cuda:0', grad_fn=<MseLossBackward0>)\n",
      "tensor(198.7451, device='cuda:0', grad_fn=<MseLossBackward0>)\n",
      "tensor(99.3993, device='cuda:0', grad_fn=<MseLossBackward0>)\n",
      "tensor(0.4213, device='cuda:0', grad_fn=<MseLossBackward0>)\n",
      "tensor(198.4329, device='cuda:0', grad_fn=<MseLossBackward0>)\n",
      "tensor(101.4970, device='cuda:0', grad_fn=<MseLossBackward0>)\n",
      "tensor(101.4839, device='cuda:0', grad_fn=<MseLossBackward0>)\n",
      "tensor(200.3775, device='cuda:0', grad_fn=<MseLossBackward0>)\n",
      "tensor(99.1545, device='cuda:0', grad_fn=<MseLossBackward0>)\n",
      "tensor(99.2617, device='cuda:0', grad_fn=<MseLossBackward0>)\n"
     ]
    },
    {
     "name": "stderr",
     "output_type": "stream",
     "text": [
      "  1%|          | 969/100000 [00:04<07:08, 231.21it/s]"
     ]
    },
    {
     "name": "stdout",
     "output_type": "stream",
     "text": [
      "tensor(301.5023, device='cuda:0', grad_fn=<MseLossBackward0>)\n",
      "tensor(301.5145, device='cuda:0', grad_fn=<MseLossBackward0>)\n",
      "tensor(0.3346, device='cuda:0', grad_fn=<MseLossBackward0>)\n",
      "tensor(301.4777, device='cuda:0', grad_fn=<MseLossBackward0>)\n",
      "tensor(200.3124, device='cuda:0', grad_fn=<MseLossBackward0>)\n",
      "tensor(99.1038, device='cuda:0', grad_fn=<MseLossBackward0>)\n",
      "tensor(0.3899, device='cuda:0', grad_fn=<MseLossBackward0>)\n",
      "tensor(101.5374, device='cuda:0', grad_fn=<MseLossBackward0>)\n",
      "tensor(200.3729, device='cuda:0', grad_fn=<MseLossBackward0>)\n"
     ]
    },
    {
     "name": "stderr",
     "output_type": "stream",
     "text": [
      "  1%|          | 1017/100000 [00:04<07:16, 226.59it/s]"
     ]
    },
    {
     "name": "stdout",
     "output_type": "stream",
     "text": [
      "tensor(101.3683, device='cuda:0', grad_fn=<MseLossBackward0>)\n",
      "tensor(301.4541, device='cuda:0', grad_fn=<MseLossBackward0>)\n",
      "tensor(0.5000, device='cuda:0', grad_fn=<MseLossBackward0>)\n",
      "tensor(100.6225, device='cuda:0', grad_fn=<MseLossBackward0>)\n",
      "tensor(300.5232, device='cuda:0', grad_fn=<MseLossBackward0>)\n",
      "tensor(200.5700, device='cuda:0', grad_fn=<MseLossBackward0>)\n",
      "tensor(200.3476, device='cuda:0', grad_fn=<MseLossBackward0>)\n",
      "tensor(100.8150, device='cuda:0', grad_fn=<MseLossBackward0>)\n",
      "tensor(400.6008, device='cuda:0', grad_fn=<MseLossBackward0>)\n"
     ]
    },
    {
     "name": "stderr",
     "output_type": "stream",
     "text": [
      "  1%|          | 1064/100000 [00:04<07:14, 227.68it/s]"
     ]
    },
    {
     "name": "stdout",
     "output_type": "stream",
     "text": [
      "tensor(200.5746, device='cuda:0', grad_fn=<MseLossBackward0>)\n",
      "tensor(200.6616, device='cuda:0', grad_fn=<MseLossBackward0>)\n",
      "tensor(200.5761, device='cuda:0', grad_fn=<MseLossBackward0>)\n",
      "tensor(0.8010, device='cuda:0', grad_fn=<MseLossBackward0>)\n",
      "tensor(100.4694, device='cuda:0', grad_fn=<MseLossBackward0>)\n",
      "tensor(200.6415, device='cuda:0', grad_fn=<MseLossBackward0>)\n",
      "tensor(300.8800, device='cuda:0', grad_fn=<MseLossBackward0>)\n",
      "tensor(0.7313, device='cuda:0', grad_fn=<MseLossBackward0>)\n",
      "tensor(600.9050, device='cuda:0', grad_fn=<MseLossBackward0>)\n"
     ]
    },
    {
     "name": "stderr",
     "output_type": "stream",
     "text": [
      "  1%|          | 1075/100000 [00:04<07:15, 227.09it/s]\n"
     ]
    },
    {
     "ename": "KeyboardInterrupt",
     "evalue": "",
     "output_type": "error",
     "traceback": [
      "\u001b[1;31m---------------------------------------------------------------------------\u001b[0m",
      "\u001b[1;31mKeyboardInterrupt\u001b[0m                         Traceback (most recent call last)",
      "\u001b[1;32mc:\\Users\\33631\\Documents\\Etudes\\centrale 3A\\RL\\reinforcement-learning-poker\\notebooks\\all_in_fold_deep_q.ipynb Cell 20'\u001b[0m in \u001b[0;36m<cell line: 8>\u001b[1;34m()\u001b[0m\n\u001b[0;32m     <a href='vscode-notebook-cell:/c%3A/Users/33631/Documents/Etudes/centrale%203A/RL/reinforcement-learning-poker/notebooks/all_in_fold_deep_q.ipynb#ch0000019?line=19'>20</a>\u001b[0m info_dict[\u001b[39m'\u001b[39m\u001b[39mstacks\u001b[39m\u001b[39m'\u001b[39m] \u001b[39m=\u001b[39m obs[\u001b[39m'\u001b[39m\u001b[39mstacks\u001b[39m\u001b[39m'\u001b[39m]\n\u001b[0;32m     <a href='vscode-notebook-cell:/c%3A/Users/33631/Documents/Etudes/centrale%203A/RL/reinforcement-learning-poker/notebooks/all_in_fold_deep_q.ipynb#ch0000019?line=21'>22</a>\u001b[0m \u001b[39mwhile\u001b[39;00m \u001b[39mTrue\u001b[39;00m:\n\u001b[1;32m---> <a href='vscode-notebook-cell:/c%3A/Users/33631/Documents/Etudes/centrale%203A/RL/reinforcement-learning-poker/notebooks/all_in_fold_deep_q.ipynb#ch0000019?line=22'>23</a>\u001b[0m     bet \u001b[39m=\u001b[39m env\u001b[39m.\u001b[39;49mact(info_dict)\n\u001b[0;32m     <a href='vscode-notebook-cell:/c%3A/Users/33631/Documents/Etudes/centrale%203A/RL/reinforcement-learning-poker/notebooks/all_in_fold_deep_q.ipynb#ch0000019?line=23'>24</a>\u001b[0m     obs, rewards, done, info \u001b[39m=\u001b[39m env\u001b[39m.\u001b[39mstep(bet)  \n\u001b[0;32m     <a href='vscode-notebook-cell:/c%3A/Users/33631/Documents/Etudes/centrale%203A/RL/reinforcement-learning-poker/notebooks/all_in_fold_deep_q.ipynb#ch0000019?line=24'>25</a>\u001b[0m     \u001b[39m# updata dict\u001b[39;00m\n",
      "File \u001b[1;32mc:\\Users\\33631\\Documents\\Etudes\\centrale 3A\\RL\\reinforcement-learning-poker\\venv\\lib\\site-packages\\clubs_gym\\envs\\env.py:194\u001b[0m, in \u001b[0;36mClubsEnv.act\u001b[1;34m(self, obs)\u001b[0m\n\u001b[0;32m    <a href='file:///c%3A/Users/33631/Documents/Etudes/centrale%203A/RL/reinforcement-learning-poker/venv/lib/site-packages/clubs_gym/envs/env.py?line=189'>190</a>\u001b[0m     \u001b[39mraise\u001b[39;00m error\u001b[39m.\u001b[39mEnvironmentResetError(\n\u001b[0;32m    <a href='file:///c%3A/Users/33631/Documents/Etudes/centrale%203A/RL/reinforcement-learning-poker/venv/lib/site-packages/clubs_gym/envs/env.py?line=190'>191</a>\u001b[0m         \u001b[39m\"\u001b[39m\u001b[39mcall reset() before calling first step()\u001b[39m\u001b[39m\"\u001b[39m\n\u001b[0;32m    <a href='file:///c%3A/Users/33631/Documents/Etudes/centrale%203A/RL/reinforcement-learning-poker/venv/lib/site-packages/clubs_gym/envs/env.py?line=191'>192</a>\u001b[0m     )\n\u001b[0;32m    <a href='file:///c%3A/Users/33631/Documents/Etudes/centrale%203A/RL/reinforcement-learning-poker/venv/lib/site-packages/clubs_gym/envs/env.py?line=192'>193</a>\u001b[0m action \u001b[39m=\u001b[39m \u001b[39mself\u001b[39m\u001b[39m.\u001b[39mprev_obs[\u001b[39m\"\u001b[39m\u001b[39maction\u001b[39m\u001b[39m\"\u001b[39m]\n\u001b[1;32m--> <a href='file:///c%3A/Users/33631/Documents/Etudes/centrale%203A/RL/reinforcement-learning-poker/venv/lib/site-packages/clubs_gym/envs/env.py?line=193'>194</a>\u001b[0m bet \u001b[39m=\u001b[39m \u001b[39mself\u001b[39;49m\u001b[39m.\u001b[39;49magents[action]\u001b[39m.\u001b[39;49mact(obs)\n\u001b[0;32m    <a href='file:///c%3A/Users/33631/Documents/Etudes/centrale%203A/RL/reinforcement-learning-poker/venv/lib/site-packages/clubs_gym/envs/env.py?line=194'>195</a>\u001b[0m \u001b[39mreturn\u001b[39;00m bet\n",
      "\u001b[1;32mc:\\Users\\33631\\Documents\\Etudes\\centrale 3A\\RL\\reinforcement-learning-poker\\notebooks\\all_in_fold_deep_q.ipynb Cell 19'\u001b[0m in \u001b[0;36mDQNAgent.act\u001b[1;34m(self, info_dict)\u001b[0m\n\u001b[0;32m    <a href='vscode-notebook-cell:/c%3A/Users/33631/Documents/Etudes/centrale%203A/RL/reinforcement-learning-poker/notebooks/all_in_fold_deep_q.ipynb#ch0000018?line=153'>154</a>\u001b[0m \u001b[39m# train\u001b[39;00m\n\u001b[0;32m    <a href='vscode-notebook-cell:/c%3A/Users/33631/Documents/Etudes/centrale%203A/RL/reinforcement-learning-poker/notebooks/all_in_fold_deep_q.ipynb#ch0000018?line=154'>155</a>\u001b[0m \u001b[39mif\u001b[39;00m \u001b[39mself\u001b[39m\u001b[39m.\u001b[39mcounter \u001b[39m>\u001b[39m\u001b[39m=\u001b[39m \u001b[39mself\u001b[39m\u001b[39m.\u001b[39mbatch_size \u001b[39mand\u001b[39;00m \u001b[39mself\u001b[39m\u001b[39m.\u001b[39mcounter\u001b[39m%\u001b[39m\u001b[39m10\u001b[39m \u001b[39m==\u001b[39m \u001b[39m0\u001b[39m:\n\u001b[0;32m    <a href='vscode-notebook-cell:/c%3A/Users/33631/Documents/Etudes/centrale%203A/RL/reinforcement-learning-poker/notebooks/all_in_fold_deep_q.ipynb#ch0000018?line=155'>156</a>\u001b[0m     \u001b[39m# replay only if enough experiences in memory\u001b[39;00m\n\u001b[1;32m--> <a href='vscode-notebook-cell:/c%3A/Users/33631/Documents/Etudes/centrale%203A/RL/reinforcement-learning-poker/notebooks/all_in_fold_deep_q.ipynb#ch0000018?line=156'>157</a>\u001b[0m     \u001b[39mself\u001b[39;49m\u001b[39m.\u001b[39;49mexperience_replay()\n\u001b[0;32m    <a href='vscode-notebook-cell:/c%3A/Users/33631/Documents/Etudes/centrale%203A/RL/reinforcement-learning-poker/notebooks/all_in_fold_deep_q.ipynb#ch0000018?line=158'>159</a>\u001b[0m \u001b[39m# take new action\u001b[39;00m\n\u001b[0;32m    <a href='vscode-notebook-cell:/c%3A/Users/33631/Documents/Etudes/centrale%203A/RL/reinforcement-learning-poker/notebooks/all_in_fold_deep_q.ipynb#ch0000018?line=159'>160</a>\u001b[0m action \u001b[39m=\u001b[39m \u001b[39mself\u001b[39m\u001b[39m.\u001b[39mstep(\u001b[39mself\u001b[39m\u001b[39m.\u001b[39mstate)\n",
      "\u001b[1;32mc:\\Users\\33631\\Documents\\Etudes\\centrale 3A\\RL\\reinforcement-learning-poker\\notebooks\\all_in_fold_deep_q.ipynb Cell 19'\u001b[0m in \u001b[0;36mDQNAgent.experience_replay\u001b[1;34m(self)\u001b[0m\n\u001b[0;32m    <a href='vscode-notebook-cell:/c%3A/Users/33631/Documents/Etudes/centrale%203A/RL/reinforcement-learning-poker/notebooks/all_in_fold_deep_q.ipynb#ch0000018?line=117'>118</a>\u001b[0m loss \u001b[39m=\u001b[39m \u001b[39mself\u001b[39m\u001b[39m.\u001b[39mmse_loss(current, target)\n\u001b[0;32m    <a href='vscode-notebook-cell:/c%3A/Users/33631/Documents/Etudes/centrale%203A/RL/reinforcement-learning-poker/notebooks/all_in_fold_deep_q.ipynb#ch0000018?line=118'>119</a>\u001b[0m \u001b[39mprint\u001b[39m(loss)\n\u001b[1;32m--> <a href='vscode-notebook-cell:/c%3A/Users/33631/Documents/Etudes/centrale%203A/RL/reinforcement-learning-poker/notebooks/all_in_fold_deep_q.ipynb#ch0000018?line=119'>120</a>\u001b[0m loss\u001b[39m.\u001b[39;49mbackward() \u001b[39m# Compute gradients\u001b[39;00m\n\u001b[0;32m    <a href='vscode-notebook-cell:/c%3A/Users/33631/Documents/Etudes/centrale%203A/RL/reinforcement-learning-poker/notebooks/all_in_fold_deep_q.ipynb#ch0000018?line=120'>121</a>\u001b[0m \u001b[39mself\u001b[39m\u001b[39m.\u001b[39moptimizer\u001b[39m.\u001b[39mstep()\n",
      "File \u001b[1;32mc:\\Users\\33631\\Documents\\Etudes\\centrale 3A\\RL\\reinforcement-learning-poker\\venv\\lib\\site-packages\\torch\\_tensor.py:363\u001b[0m, in \u001b[0;36mTensor.backward\u001b[1;34m(self, gradient, retain_graph, create_graph, inputs)\u001b[0m\n\u001b[0;32m    <a href='file:///c%3A/Users/33631/Documents/Etudes/centrale%203A/RL/reinforcement-learning-poker/venv/lib/site-packages/torch/_tensor.py?line=353'>354</a>\u001b[0m \u001b[39mif\u001b[39;00m has_torch_function_unary(\u001b[39mself\u001b[39m):\n\u001b[0;32m    <a href='file:///c%3A/Users/33631/Documents/Etudes/centrale%203A/RL/reinforcement-learning-poker/venv/lib/site-packages/torch/_tensor.py?line=354'>355</a>\u001b[0m     \u001b[39mreturn\u001b[39;00m handle_torch_function(\n\u001b[0;32m    <a href='file:///c%3A/Users/33631/Documents/Etudes/centrale%203A/RL/reinforcement-learning-poker/venv/lib/site-packages/torch/_tensor.py?line=355'>356</a>\u001b[0m         Tensor\u001b[39m.\u001b[39mbackward,\n\u001b[0;32m    <a href='file:///c%3A/Users/33631/Documents/Etudes/centrale%203A/RL/reinforcement-learning-poker/venv/lib/site-packages/torch/_tensor.py?line=356'>357</a>\u001b[0m         (\u001b[39mself\u001b[39m,),\n\u001b[1;32m   (...)\u001b[0m\n\u001b[0;32m    <a href='file:///c%3A/Users/33631/Documents/Etudes/centrale%203A/RL/reinforcement-learning-poker/venv/lib/site-packages/torch/_tensor.py?line=360'>361</a>\u001b[0m         create_graph\u001b[39m=\u001b[39mcreate_graph,\n\u001b[0;32m    <a href='file:///c%3A/Users/33631/Documents/Etudes/centrale%203A/RL/reinforcement-learning-poker/venv/lib/site-packages/torch/_tensor.py?line=361'>362</a>\u001b[0m         inputs\u001b[39m=\u001b[39minputs)\n\u001b[1;32m--> <a href='file:///c%3A/Users/33631/Documents/Etudes/centrale%203A/RL/reinforcement-learning-poker/venv/lib/site-packages/torch/_tensor.py?line=362'>363</a>\u001b[0m torch\u001b[39m.\u001b[39;49mautograd\u001b[39m.\u001b[39;49mbackward(\u001b[39mself\u001b[39;49m, gradient, retain_graph, create_graph, inputs\u001b[39m=\u001b[39;49minputs)\n",
      "File \u001b[1;32mc:\\Users\\33631\\Documents\\Etudes\\centrale 3A\\RL\\reinforcement-learning-poker\\venv\\lib\\site-packages\\torch\\autograd\\__init__.py:173\u001b[0m, in \u001b[0;36mbackward\u001b[1;34m(tensors, grad_tensors, retain_graph, create_graph, grad_variables, inputs)\u001b[0m\n\u001b[0;32m    <a href='file:///c%3A/Users/33631/Documents/Etudes/centrale%203A/RL/reinforcement-learning-poker/venv/lib/site-packages/torch/autograd/__init__.py?line=167'>168</a>\u001b[0m     retain_graph \u001b[39m=\u001b[39m create_graph\n\u001b[0;32m    <a href='file:///c%3A/Users/33631/Documents/Etudes/centrale%203A/RL/reinforcement-learning-poker/venv/lib/site-packages/torch/autograd/__init__.py?line=169'>170</a>\u001b[0m \u001b[39m# The reason we repeat same the comment below is that\u001b[39;00m\n\u001b[0;32m    <a href='file:///c%3A/Users/33631/Documents/Etudes/centrale%203A/RL/reinforcement-learning-poker/venv/lib/site-packages/torch/autograd/__init__.py?line=170'>171</a>\u001b[0m \u001b[39m# some Python versions print out the first line of a multi-line function\u001b[39;00m\n\u001b[0;32m    <a href='file:///c%3A/Users/33631/Documents/Etudes/centrale%203A/RL/reinforcement-learning-poker/venv/lib/site-packages/torch/autograd/__init__.py?line=171'>172</a>\u001b[0m \u001b[39m# calls in the traceback and some print out the last line\u001b[39;00m\n\u001b[1;32m--> <a href='file:///c%3A/Users/33631/Documents/Etudes/centrale%203A/RL/reinforcement-learning-poker/venv/lib/site-packages/torch/autograd/__init__.py?line=172'>173</a>\u001b[0m Variable\u001b[39m.\u001b[39;49m_execution_engine\u001b[39m.\u001b[39;49mrun_backward(  \u001b[39m# Calls into the C++ engine to run the backward pass\u001b[39;49;00m\n\u001b[0;32m    <a href='file:///c%3A/Users/33631/Documents/Etudes/centrale%203A/RL/reinforcement-learning-poker/venv/lib/site-packages/torch/autograd/__init__.py?line=173'>174</a>\u001b[0m     tensors, grad_tensors_, retain_graph, create_graph, inputs,\n\u001b[0;32m    <a href='file:///c%3A/Users/33631/Documents/Etudes/centrale%203A/RL/reinforcement-learning-poker/venv/lib/site-packages/torch/autograd/__init__.py?line=174'>175</a>\u001b[0m     allow_unreachable\u001b[39m=\u001b[39;49m\u001b[39mTrue\u001b[39;49;00m, accumulate_grad\u001b[39m=\u001b[39;49m\u001b[39mTrue\u001b[39;49;00m)\n",
      "\u001b[1;31mKeyboardInterrupt\u001b[0m: "
     ]
    }
   ],
   "source": [
    "clubs_gym.envs.register({env_str: config_dict})\n",
    "env = gym.make(env_str)\n",
    "q_learning_agent_info = {\"state_size\":[52], \"num_actions\": 2 , \"epsilon\": 0.1, \"step_size\": 0.1, \"discount\": 1.0, \"seed\": 0}\n",
    "agents = [DQNAgent(0, q_learning_agent_info), RandomAllInFold(1)]\n",
    "env.register_agents(agents)\n",
    "rewards_list = []\n",
    "# Start the game\n",
    "for episodes in tqdm(range(100000), position = 0):\n",
    "    obs = env.reset(reset_stacks = True, reset_button = True)\n",
    "\n",
    "    # create a dict containing all necessary info for q learning agent\n",
    "    info_dict = {}\n",
    "    if obs['action'] != -1:\n",
    "        done_agent = False\n",
    "    else:\n",
    "        done_agent = True\n",
    "    info_dict['rewards'] = [0,0]\n",
    "    info_dict['done'] = done_agent\n",
    "    info_dict['state'] = obs['hole_cards']\n",
    "    info_dict['stacks'] = obs['stacks']\n",
    "\n",
    "    while True:\n",
    "        bet = env.act(info_dict)\n",
    "        obs, rewards, done, info = env.step(bet)  \n",
    "        # updata dict\n",
    "        info_dict = {}\n",
    "        if obs['action'] != -1:\n",
    "            done_agent = False\n",
    "        else:\n",
    "            done_agent = True\n",
    "        info_dict['rewards'] = rewards\n",
    "        info_dict['done'] = done_agent\n",
    "        info_dict['state'] = obs['hole_cards']\n",
    "        info_dict['stacks'] = obs['stacks']\n",
    "\n",
    "\n",
    "        # print_obs(obs)\n",
    "        if all(done):\n",
    "            agents[0].act(info_dict)\n",
    "            rewards_list.append(rewards[0])\n",
    "\n",
    "            break\n",
    "env.close()"
   ]
  },
  {
   "cell_type": "code",
   "execution_count": 109,
   "id": "7eebcba8",
   "metadata": {},
   "outputs": [],
   "source": [
    "def sliding_window(rewards_list, window_size = 1000):\n",
    "    avg_list = []\n",
    "    rewards_list = np.array(rewards_list)\n",
    "    for i in range(0, len(rewards_list)-window_size, window_size):\n",
    "        avg_list.append(np.mean(rewards_list[i:i+window_size]))\n",
    "    return(avg_list)\n"
   ]
  },
  {
   "cell_type": "code",
   "execution_count": 111,
   "id": "1b6cd054",
   "metadata": {},
   "outputs": [
    {
     "data": {
      "text/plain": [
       "[<matplotlib.lines.Line2D at 0x277b9af9970>]"
      ]
     },
     "execution_count": 111,
     "metadata": {},
     "output_type": "execute_result"
    },
    {
     "data": {
      "image/png": "[encoded data removed]",
      "text/plain": [
       "<Figure size 432x288 with 1 Axes>"
      ]
     },
     "metadata": {
      "needs_background": "light"
     },
     "output_type": "display_data"
    }
   ],
   "source": [
    "import matplotlib.pyplot as plt\n",
    "plt.plot(sliding_window(rewards_list, window_size = 1000))"
   ]
  }
 ],
 "metadata": {
  "interpreter": {
   "hash": "bcec69c699ccacfedc0ca836cb12e805212fde22d8796542a43a04124dd506b9"
  },
  "kernelspec": {
   "display_name": "PokerKernel",
   "language": "python",
   "name": "python3"
  },
  "language_info": {
   "codemirror_mode": {
    "name": "ipython",
    "version": 3
   },
   "file_extension": ".py",
   "mimetype": "text/x-python",
   "name": "python",
   "nbconvert_exporter": "python",
   "pygments_lexer": "ipython3",
   "version": "3.8.10"
  }
 },
 "nbformat": 4,
 "nbformat_minor": 5
}
