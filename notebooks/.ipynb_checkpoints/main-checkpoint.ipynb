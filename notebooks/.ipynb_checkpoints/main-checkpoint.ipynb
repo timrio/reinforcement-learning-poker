{
 "cells": [
  {
   "cell_type": "markdown",
   "id": "efc20b17-4135-45b6-a06c-24192262dc06",
   "metadata": {},
   "source": [
    "---\n",
    "Vérifier qu'on n'est pas en 3.10.2 (sinon PyTorch ne marchera pas)"
   ]
  },
  {
   "cell_type": "code",
   "execution_count": 1,
   "id": "c183a798-d4cf-4255-a655-49a421fd46d3",
   "metadata": {},
   "outputs": [
    {
     "name": "stdout",
     "output_type": "stream",
     "text": [
      "3.8.10 (tags/v3.8.10:3d8993a, May  3 2021, 11:48:03) [MSC v.1928 64 bit (AMD64)]\n"
     ]
    }
   ],
   "source": [
    "import sys\n",
    "print(sys.version)"
   ]
  },
  {
   "cell_type": "markdown",
   "id": "9e856d00-aebe-4c1f-b801-b6fcbc5a0301",
   "metadata": {},
   "source": [
    "---\n",
    "Imports - notemment de clubs_gym (https://github.com/fschlatt/clubs_gym)"
   ]
  },
  {
   "cell_type": "code",
   "execution_count": 2,
   "id": "62db73dc-8949-48e8-b793-44e03d980345",
   "metadata": {},
   "outputs": [],
   "source": [
    "import gym\n",
    "import clubs_gym\n",
    "import time\n",
    "import random\n",
    "import numpy as np"
   ]
  },
  {
   "cell_type": "markdown",
   "id": "5b50f010-05d0-427b-b5ec-6496ceb7aed0",
   "metadata": {},
   "source": [
    "---\n",
    "Liste des environnements disponibles"
   ]
  },
  {
   "cell_type": "code",
   "execution_count": 3,
   "id": "0e9ce39a-be22-4143-922f-2237f9c0a7c7",
   "metadata": {},
   "outputs": [
    {
     "data": {
      "text/plain": [
       "['LeducTwoPlayer-v0',\n",
       " 'KuhnTwoPlayer-v0',\n",
       " 'KuhnThreePlayer-v0',\n",
       " 'LimitHoldemTwoPlayer-v0',\n",
       " 'LimitHoldemSixPlayer-v0',\n",
       " 'LimitHoldemNinePlayer-v0',\n",
       " 'NoLimitHoldemTwoPlayer-v0',\n",
       " 'NoLimitHoldemSixPlayer-v0',\n",
       " 'NoLimitHoldemNinePlayer-v0',\n",
       " 'NoLimitHoldemBbAnteNinePlayer-v0',\n",
       " 'PotLimitOmahaTwoPlayer-v0',\n",
       " 'PotLimitOmahaSixPlayer-v0',\n",
       " 'PotLimitOmahaNinePlayer-v0',\n",
       " 'ShortDeckTwoPlayer-v0',\n",
       " 'ShortDeckSixPlayer-v0',\n",
       " 'ShortDeckNinePlayer-v0']"
      ]
     },
     "execution_count": 3,
     "metadata": {},
     "output_type": "execute_result"
    }
   ],
   "source": [
    "clubs_gym.ENVS"
   ]
  },
  {
   "cell_type": "markdown",
   "id": "d537f17d-98cb-492b-a495-dda6c21db7a2",
   "metadata": {},
   "source": [
    "Ne nous intéressera que `NoLimitHoldemTwoPlayer-v0` et `NoLimitHoldemSixPlayer-v0`"
   ]
  },
  {
   "cell_type": "markdown",
   "id": "34a4c9a9-9288-4f66-918e-ddb64771bec1",
   "metadata": {},
   "source": [
    "---\n",
    "Ouvrons `NoLimitHoldemTwoPlayer-v0`."
   ]
  },
  {
   "cell_type": "code",
   "execution_count": 4,
   "id": "4f85fcfc-d342-46e5-9167-b649244043fb",
   "metadata": {},
   "outputs": [],
   "source": [
    "env_str = \"NoLimitHoldemTwoPlayer-v0\"\n",
    "num_players = 2  # heads-up\n",
    "num_streets = 4  # texas hold'em\n",
    "blinds = [1, 2]  # as on the tables on which we used to play @Jean\n",
    "antes = 0  # a bit weird to have antes in a heads-up I reckon (single ints are expanded to the number of players so could've inputted a list)\n",
    "raise_sizes = ['inf', 'inf', 'inf', 'inf']  # yes the documentation is wrong, 'inf' should be used and not float('inf')\n",
    "num_raises = 'inf'  # max number of bets for each street* (including preflop)\n",
    "num_suits = 4  # number of suits to use in deck (obviously 4 otherwise I mean it's weird)\n",
    "num_ranks = 13  # same, obviously 13 (A, 2, 3, 4, 5, 6, 7, 8, 9, T, J, Q, K)\n",
    "num_hole_cards = 2  # **\n",
    "mandatory_num_hole_cards = 0  # you can use the fives on the board and it will end up being a draw if your enemy does it too\n",
    "num_community_cards = [0, 3, 1, 1]  # preflop, flop, turn, river\n",
    "start_stack = 100  # as on the tables on which we used to play @Jean (actually it was any integer between 80 and 200)\n",
    "n_cards_for_hand = 5  # texas hold'em\n",
    "order = ['sf', 'fk', 'fh', 'fl', 'st', 'tk', 'tp', 'pa', 'hc']  # most likely optional, but just to make sure we're working with the right order\n",
    "\n",
    "config_dict = {'num_players': num_players,\n",
    "               'num_streets': num_streets,\n",
    "               'blinds': blinds,\n",
    "               'antes': antes,\n",
    "               'raise_sizes': raise_sizes,\n",
    "               'num_raises': num_raises,\n",
    "               'num_suits': num_suits,\n",
    "               'num_ranks': num_ranks,\n",
    "               'num_hole_cards': num_hole_cards,\n",
    "               'mandatory_num_hole_cards': mandatory_num_hole_cards,\n",
    "               'num_community_cards': num_community_cards,\n",
    "               'start_stack': start_stack,\n",
    "               'num_cards_for_hand': n_cards_for_hand,\n",
    "               'order': order}\n"
   ]
  },
  {
   "cell_type": "markdown",
   "id": "d1f7f179-4f96-4f4d-b7a7-d512405f139b",
   "metadata": {},
   "source": [
    "---\n",
    "Un peu de vocabulaire pour les zguegs (là où y avait des * au-dessus):\n",
    "- \\* A card that’s dealt in a particular betting round, in many poker variants, is called a **street**. For example, in Texas Hold’em and Omaha, the community cards are referred to as the flop, turn and river, with the turn and river sometimes referred to as Fourth Street and Fifth Street.\n",
    "- ** The term **hole cards' in poker signals that the cards are private cards that should only be viewed by the player. The dealer deals hole cards face down and players should ensure that the value of those cards remains secret."
   ]
  },
  {
   "cell_type": "markdown",
   "id": "16101591-27cf-4557-a5d0-461b714bb1ba",
   "metadata": {},
   "source": [
    "---\n",
    "`obs` est illisible donc on fait une fonction `print_obs` pour avoir des jolis prints sur ce qu'il se passe."
   ]
  },
  {
   "cell_type": "code",
   "execution_count": 5,
   "id": "77be690f-5596-499c-a36e-9d009e648a50",
   "metadata": {},
   "outputs": [],
   "source": [
    "def print_obs(obs):\n",
    "    \"\"\"\n",
    "    Fancy print of stats for the clubs gym poker gym.\n",
    "    All Cards displayed (on voit les cartes de tout le monde quoi)\n",
    "    \n",
    "    param: obs: le premier chose renvoyé par env.step\n",
    "    return: nada\n",
    "    \"\"\"\n",
    "    for _ in range(5):\n",
    "        print('---')\n",
    "    print('------------------- Players\\' stacks -------------------')\n",
    "    print(f\"player_0: {obs['stacks'][0]}\\n\" + \\\n",
    "          f\"player_1: {obs['stacks'][1]}\")\n",
    "    print('------------------- Game Stats -------------------')\n",
    "    print(f'community_cards: {obs[\"community_cards\"]}')\n",
    "    print(f'Dealer/Button: {obs[\"button\"] % 2}')\n",
    "    print(f'Pot: {obs[\"pot\"]}')\n",
    "    print(f'Commits: player_0: {obs[\"street_commits\"][0]} |||  player_1: {obs[\"street_commits\"][1]}')\n",
    "\n",
    "    if not obs['action'] == -1:\n",
    "        print(f\"\\n---------------- player {obs['action']}'s turn ----------------\")\n",
    "        print(f'hole_cards: {obs[\"hole_cards\"]}')\n",
    "        print(f'call: {obs[\"call\"]}, min_raise: {obs[\"min_raise\"]}, max_raise: {obs[\"max_raise\"]}', end='\\n\\n')\n",
    "    else:\n",
    "        print('\\n[INFO] - End of the Game.')"
   ]
  },
  {
   "cell_type": "markdown",
   "id": "b8b26875-7c1a-4eaa-91fd-7c6f4fa11eb2",
   "metadata": {},
   "source": [
    "---\n",
    "Main\n",
    "\n",
    "Dans `env.step`, mettre un integer qui correspond à ce que vous voulez miser. \n",
    "- Si la mise est inférieure à la mise minimum, vous vous couchez. \n",
    "- Si la mise est supérieure à la mise maximum (en no limit, ça veut dire vous voulez miser plus que ce que vous détenez) alors all in.\n",
    "\n",
    "Le truc ci-dessous vous fait changer de joueur pré/post flop - désolé. This is because *in Heads Up poker, the button acts first preflop and last postflop*."
   ]
  },
  {
   "cell_type": "code",
   "execution_count": 6,
   "id": "25490bea",
   "metadata": {},
   "outputs": [],
   "source": [
    "from clubs_gym.agent.base import BaseAgent\n",
    "class RandomAgent(BaseAgent):\n",
    "    def __init__(self, player_id, seed = 42):\n",
    "        self.rand_generator = np.random.RandomState(seed)\n",
    "        self.player_id = player_id\n",
    "\n",
    "    def act(self, obs):\n",
    "\n",
    "        available_chips = obs['stacks'][self.player_id]\n",
    "        action = self.rand_generator.randint(available_chips)\n",
    "        return(action)"
   ]
  },
  {
   "cell_type": "code",
   "execution_count": 7,
   "id": "d599005f",
   "metadata": {},
   "outputs": [],
   "source": [
    "from clubs_gym.agent.base import BaseAgent\n",
    "class HumanAgent(BaseAgent):\n",
    "    def __init__(self, player_id, seed = 42):\n",
    "        self.rand_generator = np.random.RandomState(seed)\n",
    "        self.player_id = player_id\n",
    "\n",
    "    def act(self, obs):\n",
    "        available_chips = obs['stacks'][self.player_id]\n",
    "        action = -1\n",
    "        while action > available_chips or action < 0:\n",
    "            action = int(input())\n",
    "        return(action)"
   ]
  },
  {
   "cell_type": "code",
   "execution_count": 11,
   "id": "3d2f41cb-0b18-4a29-96d3-76947b43d486",
   "metadata": {},
   "outputs": [
    {
     "name": "stdout",
     "output_type": "stream",
     "text": [
      "Action space is of size: Discrete(200)\n",
      "---\n",
      "Game started\n",
      "---\n",
      "---\n",
      "---\n",
      "---\n",
      "---\n",
      "---\n",
      "------------------- Players' stacks -------------------\n",
      "player_0: 98\n",
      "player_1: 99\n",
      "------------------- Game Stats -------------------\n",
      "community_cards: []\n",
      "Dealer/Button: 1\n",
      "Pot: 3\n",
      "Commits: player_0: 2 |||  player_1: 1\n",
      "\n",
      "---------------- player 1's turn ----------------\n",
      "hole_cards: [Card (2646724813968): K♠, Card (2646725357824): 3♣]\n",
      "call: 1, min_raise: 3, max_raise: 99\n",
      "\n",
      "ID of the action that was taken : 51\n",
      "---\n",
      "---\n",
      "---\n",
      "---\n",
      "---\n",
      "------------------- Players' stacks -------------------\n",
      "player_0: 98\n",
      "player_1: 48\n",
      "------------------- Game Stats -------------------\n",
      "community_cards: []\n",
      "Dealer/Button: 1\n",
      "Pot: 54\n",
      "Commits: player_0: 2 |||  player_1: 52\n",
      "\n",
      "---------------- player 0's turn ----------------\n",
      "hole_cards: [Card (2646725357920): 3♦, Card (2646725361424): 4♦]\n",
      "call: 50, min_raise: 98, max_raise: 98\n",
      "\n",
      "ID of the action that was taken : 51\n",
      "---\n",
      "---\n",
      "---\n",
      "---\n",
      "---\n",
      "------------------- Players' stacks -------------------\n",
      "player_0: 48\n",
      "player_1: 48\n",
      "------------------- Game Stats -------------------\n",
      "community_cards: [Card (2646725361568): 4♥, Card (2646724659184): T♠, Card (2646724659136): 5♣]\n",
      "Dealer/Button: 1\n",
      "Pot: 104\n",
      "Commits: player_0: 0 |||  player_1: 0\n",
      "\n",
      "---------------- player 0's turn ----------------\n",
      "hole_cards: [Card (2646725357920): 3♦, Card (2646725361424): 4♦]\n",
      "call: 0, min_raise: 48, max_raise: 48\n",
      "\n",
      "ID of the action that was taken : 28\n",
      "---\n",
      "---\n",
      "---\n",
      "---\n",
      "---\n",
      "------------------- Players' stacks -------------------\n",
      "player_0: 0\n",
      "player_1: 48\n",
      "------------------- Game Stats -------------------\n",
      "community_cards: [Card (2646725361568): 4♥, Card (2646724659184): T♠, Card (2646724659136): 5♣]\n",
      "Dealer/Button: 1\n",
      "Pot: 152\n",
      "Commits: player_0: 48 |||  player_1: 0\n",
      "\n",
      "---------------- player 1's turn ----------------\n",
      "hole_cards: [Card (2646724813968): K♠, Card (2646725357824): 3♣]\n",
      "call: 48, min_raise: 48, max_raise: 48\n",
      "\n",
      "ID of the action that was taken : 28\n",
      "---\n",
      "---\n",
      "---\n",
      "---\n",
      "---\n",
      "------------------- Players' stacks -------------------\n",
      "player_0: 200\n",
      "player_1: 0\n",
      "------------------- Game Stats -------------------\n",
      "community_cards: [Card (2646725361568): 4♥, Card (2646724659184): T♠, Card (2646724659136): 5♣, Card (2646724812912): T♥, Card (2646725358016): 3♥]\n",
      "Dealer/Button: 1\n",
      "Pot: 0\n",
      "Commits: player_0: 0 |||  player_1: 0\n",
      "\n",
      "[INFO] - End of the Game.\n"
     ]
    }
   ],
   "source": [
    "\n",
    "clubs_gym.envs.register({env_str: config_dict})\n",
    "env = gym.make(env_str)\n",
    "env.register_agents([RandomAgent(0),RandomAgent(1)])\n",
    "\n",
    "# Start the game\n",
    "obs = env.reset()\n",
    "print(f\"Action space is of size: {env.action_space}\")\n",
    "\n",
    "print(\"---\\nGame started\\n---\")\n",
    "counter = 0\n",
    "\n",
    "# print(f\"Hand number {counter + 1}\\n---\")\n",
    "\n",
    "print_obs(obs)\n",
    "\n",
    "while True:\n",
    "    \n",
    "    bet = env.act(obs)\n",
    "    obs, rewards, done, info = env.step(bet)  \n",
    "    print(f\"ID of the action that was taken : {bet}\")\n",
    "    print_obs(obs)\n",
    "    if all(done):\n",
    "        break\n",
    "\n",
    "\n",
    "\n",
    "env.close()"
   ]
  },
  {
   "cell_type": "code",
   "execution_count": 9,
   "id": "2977973c",
   "metadata": {},
   "outputs": [
    {
     "name": "stdout",
     "output_type": "stream",
     "text": [
      "{'action': 0, 'active': [True, True], 'button': 1, 'call': 0, 'community_cards': [], 'hole_cards': [Card (2646724657504): Q♠], 'max_raise': 1, 'min_raise': 1, 'pot': 2, 'stacks': [9, 9], 'street_commits': [0, 0]}\n",
      "{'action': -1, 'active': [True, True], 'button': 1, 'call': 0, 'community_cards': [], 'hole_cards': [Card (2646724659184): K♠], 'max_raise': 0, 'min_raise': 0, 'pot': 0, 'stacks': [9, 11], 'street_commits': [0, 0]}\n",
      "[-1, 1]\n"
     ]
    }
   ],
   "source": [
    "import gym\n",
    "\n",
    "import clubs_gym\n",
    "\n",
    "env = gym.make(\"KuhnTwoPlayer-v0\")\n",
    "env.register_agents([clubs_gym.agent.kuhn.NashKuhnAgent(0.3)] * 2)\n",
    "obs = env.reset()\n",
    "\n",
    "while True:\n",
    "    bet = env.act(obs)\n",
    "    obs, rewards, done, info = env.step(bet)\n",
    "    print(obs)\n",
    "\n",
    "    if all(done):\n",
    "        break\n",
    "\n",
    "print(rewards)"
   ]
  }
 ],
 "metadata": {
  "interpreter": {
   "hash": "bcec69c699ccacfedc0ca836cb12e805212fde22d8796542a43a04124dd506b9"
  },
  "kernelspec": {
   "display_name": "PokerKernel",
   "language": "python",
   "name": "venv"
  },
  "language_info": {
   "codemirror_mode": {
    "name": "ipython",
    "version": 3
   },
   "file_extension": ".py",
   "mimetype": "text/x-python",
   "name": "python",
   "nbconvert_exporter": "python",
   "pygments_lexer": "ipython3",
   "version": "3.8.10"
  }
 },
 "nbformat": 4,
 "nbformat_minor": 5
}
