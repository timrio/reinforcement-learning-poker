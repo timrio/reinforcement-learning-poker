{
 "cells": [
  {
   "cell_type": "code",
   "execution_count": 1,
   "id": "c183a798-d4cf-4255-a655-49a421fd46d3",
   "metadata": {},
   "outputs": [
    {
     "name": "stdout",
     "output_type": "stream",
     "text": [
      "3.9.10 (tags/v3.9.10:f2f3f53, Jan 17 2022, 15:14:21) [MSC v.1929 64 bit (AMD64)]\n"
     ]
    }
   ],
   "source": [
    "import sys\n",
    "print(sys.version)"
   ]
  },
  {
   "cell_type": "code",
   "execution_count": 3,
   "id": "62db73dc-8949-48e8-b793-44e03d980345",
   "metadata": {},
   "outputs": [
    {
     "name": "stdout",
     "output_type": "stream",
     "text": [
      "5\n",
      "2\n",
      "[[54], [54]]\n",
      "[None, None]\n"
     ]
    }
   ],
   "source": [
    "import rlcard\n",
    "from rlcard.agents import RandomAgent\n",
    "\n",
    "env = rlcard.make('no-limit-holdem')\n",
    "\n",
    "print(env.num_actions) # 2\n",
    "print(env.num_players) # 1\n",
    "print(env.state_shape) # [[2]]\n",
    "print(env.action_shape) # [None]\n"
   ]
  },
  {
   "cell_type": "code",
   "execution_count": null,
   "id": "0e9ce39a-be22-4143-922f-2237f9c0a7c7",
   "metadata": {},
   "outputs": [],
   "source": []
  }
 ],
 "metadata": {
  "kernelspec": {
   "display_name": "Python 3 (ipykernel)",
   "language": "python",
   "name": "python3"
  },
  "language_info": {
   "codemirror_mode": {
    "name": "ipython",
    "version": 3
   },
   "file_extension": ".py",
   "mimetype": "text/x-python",
   "name": "python",
   "nbconvert_exporter": "python",
   "pygments_lexer": "ipython3",
   "version": "3.9.10"
  }
 },
 "nbformat": 4,
 "nbformat_minor": 5
}
