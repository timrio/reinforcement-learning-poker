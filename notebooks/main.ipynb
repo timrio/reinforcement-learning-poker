{
 "cells": [
  {
   "cell_type": "markdown",
   "id": "efc20b17-4135-45b6-a06c-24192262dc06",
   "metadata": {},
   "source": [
    "---\n",
    "Vérifier qu'on n'est pas en 3.10.2 (sinon PyTorch ne marchera pas)"
   ]
  },
  {
   "cell_type": "code",
   "execution_count": 18,
   "id": "c183a798-d4cf-4255-a655-49a421fd46d3",
   "metadata": {},
   "outputs": [
    {
     "name": "stdout",
     "output_type": "stream",
     "text": [
      "3.9.10 (tags/v3.9.10:f2f3f53, Jan 17 2022, 15:14:21) [MSC v.1929 64 bit (AMD64)]\n"
     ]
    }
   ],
   "source": [
    "import sys\n",
    "print(sys.version)"
   ]
  },
  {
   "cell_type": "markdown",
   "id": "9e856d00-aebe-4c1f-b801-b6fcbc5a0301",
   "metadata": {},
   "source": [
    "---\n",
    "Imports - notemment de clubs_gym (https://github.com/fschlatt/clubs_gym)"
   ]
  },
  {
   "cell_type": "code",
   "execution_count": 20,
   "id": "62db73dc-8949-48e8-b793-44e03d980345",
   "metadata": {},
   "outputs": [],
   "source": [
    "import gym\n",
    "import clubs_gym"
   ]
  },
  {
   "cell_type": "markdown",
   "id": "5b50f010-05d0-427b-b5ec-6496ceb7aed0",
   "metadata": {},
   "source": [
    "---\n",
    "Liste des environnements disponibles"
   ]
  },
  {
   "cell_type": "code",
   "execution_count": 16,
   "id": "0e9ce39a-be22-4143-922f-2237f9c0a7c7",
   "metadata": {},
   "outputs": [
    {
     "data": {
      "text/plain": [
       "['LeducTwoPlayer-v0',\n",
       " 'KuhnTwoPlayer-v0',\n",
       " 'KuhnThreePlayer-v0',\n",
       " 'LimitHoldemTwoPlayer-v0',\n",
       " 'LimitHoldemSixPlayer-v0',\n",
       " 'LimitHoldemNinePlayer-v0',\n",
       " 'NoLimitHoldemTwoPlayer-v0',\n",
       " 'NoLimitHoldemSixPlayer-v0',\n",
       " 'NoLimitHoldemNinePlayer-v0',\n",
       " 'NoLimitHoldemBbAnteNinePlayer-v0',\n",
       " 'PotLimitOmahaTwoPlayer-v0',\n",
       " 'PotLimitOmahaSixPlayer-v0',\n",
       " 'PotLimitOmahaNinePlayer-v0',\n",
       " 'ShortDeckTwoPlayer-v0',\n",
       " 'ShortDeckSixPlayer-v0',\n",
       " 'ShortDeckNinePlayer-v0']"
      ]
     },
     "execution_count": 16,
     "metadata": {},
     "output_type": "execute_result"
    }
   ],
   "source": [
    "clubs_gym.ENVS"
   ]
  },
  {
   "cell_type": "markdown",
   "id": "d537f17d-98cb-492b-a495-dda6c21db7a2",
   "metadata": {},
   "source": [
    "Ne nous intéressera que `NoLimitHoldemTwoPlayer-v0` et `NoLimitHoldemSixPlayer-v0`"
   ]
  },
  {
   "cell_type": "markdown",
   "id": "34a4c9a9-9288-4f66-918e-ddb64771bec1",
   "metadata": {},
   "source": [
    "---\n",
    "Ouvrons NoLimitHoldemTwoPlayer-v0"
   ]
  },
  {
   "cell_type": "code",
   "execution_count": 32,
   "id": "4f85fcfc-d342-46e5-9167-b649244043fb",
   "metadata": {},
   "outputs": [
    {
     "name": "stdout",
     "output_type": "stream",
     "text": [
      "{'action': 0, 'active': [True, True], 'button': 1, 'call': 198, 'community_cards': [], 'hole_cards': Card (2471748646368): Q♠, 'max_raise': 198, 'min_raise': 198, 'pot': 202, 'stacks': [198, 0], 'street_commits': [2, 200]} [0, 0] [False, True] None\n",
      "{'action': -1, 'active': [True, True], 'button': 1, 'call': 0, 'community_cards': [Card (2471748618176): 4♦, Card (2471740775728): K♣, Card (2471740775248): A♦, Card (2471748618512): 2♥, Card (2471748645840): T♣], 'hole_cards': Card (2471748648000): 9♠, 'max_raise': 0, 'min_raise': 0, 'pot': 0, 'stacks': [0, 400], 'street_commits': [0, 0]} [-200, 200] [True, True] None\n"
     ]
    }
   ],
   "source": [
    "env = gym.make(\"NoLimitHoldemTwoPlayer-v0\")\n",
    "observation = env.reset()\n",
    "\n",
    "while True:\n",
    "    obs, rewards, done, info = env.step(env.action_space.sample()) # take a random action\n",
    "    print(obs, rewards, done, info)\n",
    "    \n",
    "    if all(done):\n",
    "        break\n",
    "\n",
    "env.close()"
   ]
  }
 ],
 "metadata": {
  "kernelspec": {
   "display_name": "Python (venv)",
   "language": "python",
   "name": "venv"
  },
  "language_info": {
   "codemirror_mode": {
    "name": "ipython",
    "version": 3
   },
   "file_extension": ".py",
   "mimetype": "text/x-python",
   "name": "python",
   "nbconvert_exporter": "python",
   "pygments_lexer": "ipython3",
   "version": "3.9.10"
  }
 },
 "nbformat": 4,
 "nbformat_minor": 5
}
