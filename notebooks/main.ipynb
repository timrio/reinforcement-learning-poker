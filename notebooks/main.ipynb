{
 "cells": [
  {
   "cell_type": "markdown",
   "id": "efc20b17-4135-45b6-a06c-24192262dc06",
   "metadata": {},
   "source": [
    "---\n",
    "Vérifier qu'on n'est pas en 3.10.2 (sinon PyTorch ne marchera pas)"
   ]
  },
  {
   "cell_type": "code",
   "execution_count": 33,
   "id": "c183a798-d4cf-4255-a655-49a421fd46d3",
   "metadata": {},
   "outputs": [
    {
     "name": "stdout",
     "output_type": "stream",
     "text": [
      "3.9.10 (tags/v3.9.10:f2f3f53, Jan 17 2022, 15:14:21) [MSC v.1929 64 bit (AMD64)]\n"
     ]
    }
   ],
   "source": [
    "import sys\n",
    "print(sys.version)"
   ]
  },
  {
   "cell_type": "markdown",
   "id": "9e856d00-aebe-4c1f-b801-b6fcbc5a0301",
   "metadata": {},
   "source": [
    "---\n",
    "Imports - notemment de clubs_gym (https://github.com/fschlatt/clubs_gym)"
   ]
  },
  {
   "cell_type": "code",
   "execution_count": 34,
   "id": "62db73dc-8949-48e8-b793-44e03d980345",
   "metadata": {},
   "outputs": [],
   "source": [
    "import gym\n",
    "import clubs_gym"
   ]
  },
  {
   "cell_type": "markdown",
   "id": "5b50f010-05d0-427b-b5ec-6496ceb7aed0",
   "metadata": {},
   "source": [
    "---\n",
    "Liste des environnements disponibles"
   ]
  },
  {
   "cell_type": "code",
   "execution_count": 35,
   "id": "0e9ce39a-be22-4143-922f-2237f9c0a7c7",
   "metadata": {},
   "outputs": [
    {
     "data": {
      "text/plain": [
       "['LeducTwoPlayer-v0',\n",
       " 'KuhnTwoPlayer-v0',\n",
       " 'KuhnThreePlayer-v0',\n",
       " 'LimitHoldemTwoPlayer-v0',\n",
       " 'LimitHoldemSixPlayer-v0',\n",
       " 'LimitHoldemNinePlayer-v0',\n",
       " 'NoLimitHoldemTwoPlayer-v0',\n",
       " 'NoLimitHoldemSixPlayer-v0',\n",
       " 'NoLimitHoldemNinePlayer-v0',\n",
       " 'NoLimitHoldemBbAnteNinePlayer-v0',\n",
       " 'PotLimitOmahaTwoPlayer-v0',\n",
       " 'PotLimitOmahaSixPlayer-v0',\n",
       " 'PotLimitOmahaNinePlayer-v0',\n",
       " 'ShortDeckTwoPlayer-v0',\n",
       " 'ShortDeckSixPlayer-v0',\n",
       " 'ShortDeckNinePlayer-v0']"
      ]
     },
     "execution_count": 35,
     "metadata": {},
     "output_type": "execute_result"
    }
   ],
   "source": [
    "clubs_gym.ENVS"
   ]
  },
  {
   "cell_type": "markdown",
   "id": "d537f17d-98cb-492b-a495-dda6c21db7a2",
   "metadata": {},
   "source": [
    "Ne nous intéressera que `NoLimitHoldemTwoPlayer-v0` et `NoLimitHoldemSixPlayer-v0`"
   ]
  },
  {
   "cell_type": "markdown",
   "id": "34a4c9a9-9288-4f66-918e-ddb64771bec1",
   "metadata": {},
   "source": [
    "---\n",
    "Ouvrons `NoLimitHoldemTwoPlayer-v0`."
   ]
  },
  {
   "cell_type": "code",
   "execution_count": 44,
   "id": "4f85fcfc-d342-46e5-9167-b649244043fb",
   "metadata": {},
   "outputs": [],
   "source": [
    "env = gym.make(\"NoLimitHoldemTwoPlayer-v0\")\n",
    "observation = env.reset()"
   ]
  },
  {
   "cell_type": "markdown",
   "id": "d1f7f179-4f96-4f4d-b7a7-d512405f139b",
   "metadata": {},
   "source": [
    "---\n",
    "Un peu de vocabulaire pour les zguegs:\n",
    "- A card that’s dealt in a particular betting round, in many poker variants, is called a **street**. For example, in Texas Hold’em and Omaha, the community cards are referred to as the flop, turn and river, with the turn and river sometimes referred to as Fourth Street and Fifth Street."
   ]
  },
  {
   "cell_type": "markdown",
   "id": "16101591-27cf-4557-a5d0-461b714bb1ba",
   "metadata": {},
   "source": [
    "---\n",
    "`obs` est illisible donc "
   ]
  },
  {
   "cell_type": "code",
   "execution_count": 45,
   "id": "77be690f-5596-499c-a36e-9d009e648a50",
   "metadata": {},
   "outputs": [
    {
     "name": "stdout",
     "output_type": "stream",
     "text": [
      "------------------- game Stats -------------------\n",
      "community_cards: []\n",
      "Dealer/Button: 1\n",
      "Pot: 138\n",
      "Commits: player_0 2, player_1 136\n",
      "\n",
      "---------------- player 0's turn ----------------\n",
      "hole_cards: 2♣\n",
      "call: 134, min_raise: 198, max_raise: 198\n",
      "\n",
      "------------------- game Stats -------------------\n",
      "community_cards: []\n",
      "Dealer/Button: 1\n",
      "Pot: 336\n",
      "Commits: player_0 200, player_1 136\n",
      "\n",
      "---------------- player 1's turn ----------------\n",
      "hole_cards: 6♥\n",
      "call: 64, min_raise: 0, max_raise: 0\n",
      "\n",
      "------------------- game Stats -------------------\n",
      "community_cards: [Card (2471740781232): 9♦, Card (2471749691664): A♦, Card (2471749691616): A♠, Card (2471740781904): 9♥, Card (2471740683408): 2♠]\n",
      "Dealer/Button: 1\n",
      "Pot: 0\n",
      "Commits: player_0 0, player_1 0\n",
      "\n",
      "[INFO] - End of the Game.\n"
     ]
    }
   ],
   "source": [
    "def print_obs(obs):\n",
    "    \"\"\"\n",
    "    Fancy print of stats for the clubs gym poker gym.\n",
    "    All Cards displayed (perfect information).\n",
    "    \n",
    "    param: obs: le premier chose renvoyé par env.step\n",
    "    return: nada\n",
    "    \"\"\"\n",
    "\n",
    "    print('------------------- game Stats -------------------')\n",
    "    print(f'community_cards: {obs[\"community_cards\"]}')\n",
    "    print(f'Dealer/Button: {obs[\"button\"] % 2}')\n",
    "    print(f'Pot: {obs[\"pot\"]}')\n",
    "    print(f'Commits: player_0 {obs[\"street_commits\"][0]}, player_1 {obs[\"street_commits\"][1]}')\n",
    "\n",
    "    if not obs['action'] == -1:\n",
    "        print(f\"\\n---------------- player {obs['action']}'s turn ----------------\")\n",
    "        print(f'hole_cards: {obs[\"hole_cards\"]}')\n",
    "        print(f'call: {obs[\"call\"]}, min_raise: {obs[\"min_raise\"]}, max_raise: {obs[\"max_raise\"]}', end='\\n\\n')\n",
    "    else:\n",
    "        print('\\n[INFO] - End of the Game.')\n",
    "\n",
    "        \n",
    "while True:\n",
    "    obs, rewards, done, info = env.step(env.action_space.sample()) # take a random action\n",
    "    print_obs(obs)\n",
    "    \n",
    "    if all(done):\n",
    "        break\n",
    "\n",
    "env.close()"
   ]
  },
  {
   "cell_type": "code",
   "execution_count": null,
   "id": "c72e80a7-03c0-4763-9bf6-bab7bd706f39",
   "metadata": {},
   "outputs": [],
   "source": []
  }
 ],
 "metadata": {
  "kernelspec": {
   "display_name": "Python (venv)",
   "language": "python",
   "name": "venv"
  },
  "language_info": {
   "codemirror_mode": {
    "name": "ipython",
    "version": 3
   },
   "file_extension": ".py",
   "mimetype": "text/x-python",
   "name": "python",
   "nbconvert_exporter": "python",
   "pygments_lexer": "ipython3",
   "version": "3.9.10"
  }
 },
 "nbformat": 4,
 "nbformat_minor": 5
}
